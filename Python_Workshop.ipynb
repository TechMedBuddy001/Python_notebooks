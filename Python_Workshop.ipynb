{
  "nbformat": 4,
  "nbformat_minor": 0,
  "metadata": {
    "colab": {
      "provenance": [],
      "collapsed_sections": [
        "cm8-v-VVqYdf",
        "r-qLk6IpLB4R",
        "pkVFL03AC-_O",
        "WxsZ_1fiCUZ0",
        "AZ4y5s_rNIax",
        "XkMn5o52X0UA",
        "rSQgVseIiAUT",
        "-VjUO4s9iRxV",
        "3WqpVH6ZkaYo",
        "btGwgZfzinGf",
        "C-0g5oyqHE5_",
        "rwzbTol2GC-e",
        "VYHih5-A6ihk",
        "DbqSXn3hJ8zY",
        "G1urWBSEkst-",
        "BCSLgtDJlZaK",
        "8sBd6VPSON9g",
        "39jYoMaxRQFE",
        "cez364E8RXMv",
        "CSchEvV_Y6Jk",
        "0Th6-rDfvOD4",
        "eiaakHSszqdx",
        "fYBYEH9bP_fa",
        "gOa_CrByBhRn",
        "PoJnabs9qDvF",
        "GSS4ZbLdj8X8",
        "34yfrAGb0Lze",
        "BDmfOI0g9aRz",
        "a9glRebZyB51",
        "ouDJOwKqWlxj",
        "WyKlbtbGB4dD"
      ]
    },
    "kernelspec": {
      "name": "python3",
      "display_name": "Python 3"
    }
  },
  "cells": [
    {
      "cell_type": "markdown",
      "metadata": {
        "colab_type": "toc",
        "id": "KnRKONDaKSKp"
      },
      "source": [
        ">[SESSION - I](#scrollTo=cm8-v-VVqYdf)\n",
        "\n",
        ">>[Variables and its Types](#scrollTo=r-qLk6IpLB4R)\n",
        "\n",
        ">>>[Assigning values](#scrollTo=pkVFL03AC-_O)\n",
        "\n",
        ">>>[Deleting variables from memory](#scrollTo=WxsZ_1fiCUZ0)\n",
        "\n",
        ">>>[Data Types](#scrollTo=AZ4y5s_rNIax)\n",
        "\n",
        ">>[Errors](#scrollTo=XkMn5o52X0UA)\n",
        "\n",
        ">>>[Semantic Error](#scrollTo=rSQgVseIiAUT)\n",
        "\n",
        ">>>[Syntax Error](#scrollTo=-VjUO4s9iRxV)\n",
        "\n",
        ">>[Reserved words](#scrollTo=3WqpVH6ZkaYo)\n",
        "\n",
        ">>[Operators & Operands](#scrollTo=btGwgZfzinGf)\n",
        "\n",
        ">>>[Order of Operations : PEDMAS](#scrollTo=C-0g5oyqHE5_)\n",
        "\n",
        ">>[Assigning values through user](#scrollTo=rwzbTol2GC-e)\n",
        "\n",
        ">[SESSION - II](#scrollTo=VYHih5-A6ihk)\n",
        "\n",
        ">>[Suitable naming and commenting](#scrollTo=DbqSXn3hJ8zY)\n",
        "\n",
        ">>[Functions](#scrollTo=c4oPHd40pPo6)\n",
        "\n",
        ">>[Conditionals](#scrollTo=_hjma7FdLb4u)\n",
        "\n",
        ">>>[Boolean expressions: True or False?](#scrollTo=G1urWBSEkst-)\n",
        "\n",
        ">>>[Logical operators](#scrollTo=BCSLgtDJlZaK)\n",
        "\n",
        ">>>[Constructing Logical Operations Strategically](#scrollTo=mXBg0jUnct1q)\n",
        "\n",
        ">>>[Conditions Statements:  If/else](#scrollTo=8sBd6VPSON9g)\n",
        "\n",
        ">>>>[If](#scrollTo=39jYoMaxRQFE)\n",
        "\n",
        ">>>>[Else](#scrollTo=cez364E8RXMv)\n",
        "\n",
        ">>>[Chained conditionals](#scrollTo=CSchEvV_Y6Jk)\n",
        "\n",
        ">>>[Nested conditionals](#scrollTo=0Th6-rDfvOD4)\n",
        "\n",
        ">[Session III](#scrollTo=eiaakHSszqdx)\n",
        "\n",
        ">>[Data Types](#scrollTo=fYBYEH9bP_fa)\n",
        "\n",
        ">>[Strings](#scrollTo=gOa_CrByBhRn)\n",
        "\n",
        ">>>[Introduction](#scrollTo=4n0t3KAt7ZkS)\n",
        "\n",
        ">>>[Indexing](#scrollTo=456B6nNoumEG)\n",
        "\n",
        ">>>>[Slicing](#scrollTo=-IsWYlABSqyk)\n",
        "\n",
        ">>>>[Reverse indexing](#scrollTo=yP9Z-MvOSwGO)\n",
        "\n",
        ">>>[dir() function](#scrollTo=Bdzop8FdT7mi)\n",
        "\n",
        ">>>>[Example problems](#scrollTo=0ZI5FyL1X1TL)\n",
        "\n",
        ">>>[Format operator](#scrollTo=DHZbM-lVLarV)\n",
        "\n",
        ">>[List](#scrollTo=PoJnabs9qDvF)\n",
        "\n",
        ">>>[Indexing of lists](#scrollTo=ai59is9drL14)\n",
        "\n",
        ">>>[List operations](#scrollTo=J88wh5RJwjgU)\n",
        "\n",
        ">>>[dir() function for lists](#scrollTo=B2VszUkJxzMQ)\n",
        "\n",
        ">[Session-IV](#scrollTo=GSS4ZbLdj8X8)\n",
        "\n",
        ">>[While : Indefinite till False](#scrollTo=34yfrAGb0Lze)\n",
        "\n",
        ">>>>[Infinite Loop](#scrollTo=YcLfRQgCG0WU)\n",
        "\n",
        ">>>>[Using 'break' & 'continue' in loops](#scrollTo=6Lx9yGrp961j)\n",
        "\n",
        ">>>>[Using try/except statements](#scrollTo=7LoTkbIPdE6K)\n",
        "\n",
        ">>[For : Definite loop](#scrollTo=BDmfOI0g9aRz)\n",
        "\n",
        ">[SESSION - V](#scrollTo=a9glRebZyB51)\n",
        "\n",
        ">>[Dictionary](#scrollTo=ouDJOwKqWlxj)\n",
        "\n",
        ">>[Tuples](#scrollTo=WyKlbtbGB4dD)\n",
        "\n",
        ">[SESSION VI](#scrollTo=zCkzRpsXtWbD)\n",
        "\n",
        ">>[Regular Expression](#scrollTo=YNP_mN9NA_AI)\n",
        "\n",
        ">>[File Handling](#scrollTo=4RkoVI41-i_S)\n",
        "\n",
        ">[Project](#scrollTo=SXHu8n9PoXZK)\n",
        "\n"
      ]
    },
    {
      "cell_type": "code",
      "metadata": {
        "id": "TezmlLyaDdOu"
      },
      "source": [],
      "execution_count": null,
      "outputs": []
    },
    {
      "cell_type": "markdown",
      "metadata": {
        "id": "cm8-v-VVqYdf"
      },
      "source": [
        "# SESSION - I"
      ]
    },
    {
      "cell_type": "markdown",
      "metadata": {
        "id": "r-qLk6IpLB4R"
      },
      "source": [
        "## Variables and its Types"
      ]
    },
    {
      "cell_type": "markdown",
      "metadata": {
        "id": "pkVFL03AC-_O"
      },
      "source": [
        "### Assigning values"
      ]
    },
    {
      "cell_type": "code",
      "metadata": {
        "id": "FgO1qo-TLRJo"
      },
      "source": [
        "x = 2       # \"=\" assigns values to variables"
      ],
      "execution_count": null,
      "outputs": []
    },
    {
      "cell_type": "code",
      "metadata": {
        "id": "l06Kb02BTGgX",
        "colab": {
          "base_uri": "https://localhost:8080/"
        },
        "outputId": "fbcd2f97-710e-419e-d85d-7c90c9bbdf26"
      },
      "source": [
        "x           # simply entering variable prints its value"
      ],
      "execution_count": null,
      "outputs": [
        {
          "output_type": "execute_result",
          "data": {
            "text/plain": [
              "2"
            ]
          },
          "metadata": {
            "tags": []
          },
          "execution_count": 2
        }
      ]
    },
    {
      "cell_type": "code",
      "metadata": {
        "id": "bhcPAz0xTTTE",
        "colab": {
          "base_uri": "https://localhost:8080/"
        },
        "outputId": "e11f198f-09b4-445c-a1db-daeb6bba370d"
      },
      "source": [
        "x+2         # simply runs the command"
      ],
      "execution_count": null,
      "outputs": [
        {
          "output_type": "execute_result",
          "data": {
            "text/plain": [
              "4"
            ]
          },
          "metadata": {
            "tags": []
          },
          "execution_count": 3
        }
      ]
    },
    {
      "cell_type": "code",
      "metadata": {
        "id": "t17PJwESThAe"
      },
      "source": [
        "y = \"hello\""
      ],
      "execution_count": null,
      "outputs": []
    },
    {
      "cell_type": "code",
      "metadata": {
        "id": "ibhvZgd8Tk08",
        "colab": {
          "base_uri": "https://localhost:8080/",
          "height": 35
        },
        "outputId": "05d7a1ed-bea0-468d-dbab-2fed983a257c"
      },
      "source": [
        "y"
      ],
      "execution_count": null,
      "outputs": [
        {
          "output_type": "execute_result",
          "data": {
            "application/vnd.google.colaboratory.intrinsic+json": {
              "type": "string"
            },
            "text/plain": [
              "'hello'"
            ]
          },
          "metadata": {
            "tags": []
          },
          "execution_count": 5
        }
      ]
    },
    {
      "cell_type": "code",
      "metadata": {
        "id": "e8NPTDRDL1mL",
        "colab": {
          "base_uri": "https://localhost:8080/"
        },
        "outputId": "de1d42da-83cd-44ee-c5d6-933b8126e8d3"
      },
      "source": [
        "a,b = 3.14,\"pi\"       # multiple different assignments simultaneously\n",
        "\n",
        "var1 = var2 = 9.18    # multiple same assignments simultaneosly\n",
        "\n",
        "print(a,b,var1,var2)  # function print!"
      ],
      "execution_count": null,
      "outputs": [
        {
          "output_type": "stream",
          "text": [
            "3.14 pi 9.18 9.18\n"
          ],
          "name": "stdout"
        }
      ]
    },
    {
      "cell_type": "code",
      "metadata": {
        "id": "TW4eplMZT-gY",
        "colab": {
          "base_uri": "https://localhost:8080/"
        },
        "outputId": "20435ea8-8c2f-482d-ab0d-436204cb7352"
      },
      "source": [
        "len(b)                # function len!"
      ],
      "execution_count": null,
      "outputs": [
        {
          "output_type": "execute_result",
          "data": {
            "text/plain": [
              "2"
            ]
          },
          "metadata": {
            "tags": []
          },
          "execution_count": 8
        }
      ]
    },
    {
      "cell_type": "code",
      "metadata": {
        "id": "9qHPkBH4BWuC",
        "colab": {
          "base_uri": "https://localhost:8080/"
        },
        "outputId": "6364b703-fb14-4203-f18c-44f81424645a"
      },
      "source": [
        "x = 20\n",
        "x = x + 10          #updating value of the variable x\n",
        "x"
      ],
      "execution_count": null,
      "outputs": [
        {
          "output_type": "execute_result",
          "data": {
            "text/plain": [
              "30"
            ]
          },
          "metadata": {
            "tags": []
          },
          "execution_count": 9
        }
      ]
    },
    {
      "cell_type": "code",
      "metadata": {
        "id": "yUJtw1z35sKl"
      },
      "source": [
        "x +=1"
      ],
      "execution_count": null,
      "outputs": []
    },
    {
      "cell_type": "code",
      "metadata": {
        "id": "_CRATVKR5tuQ",
        "colab": {
          "base_uri": "https://localhost:8080/"
        },
        "outputId": "bb55cb58-91d6-4519-90de-424e285b6d30"
      },
      "source": [
        "x"
      ],
      "execution_count": null,
      "outputs": [
        {
          "output_type": "execute_result",
          "data": {
            "text/plain": [
              "31"
            ]
          },
          "metadata": {
            "tags": []
          },
          "execution_count": 11
        }
      ]
    },
    {
      "cell_type": "markdown",
      "metadata": {
        "id": "WxsZ_1fiCUZ0"
      },
      "source": [
        "### Deleting variables from memory"
      ]
    },
    {
      "cell_type": "code",
      "metadata": {
        "id": "B0PpPApX5yHJ"
      },
      "source": [
        "var1 = 918"
      ],
      "execution_count": null,
      "outputs": []
    },
    {
      "cell_type": "code",
      "metadata": {
        "id": "WsZvyauj5yYT",
        "colab": {
          "base_uri": "https://localhost:8080/"
        },
        "outputId": "53493f91-6411-480c-b9d9-9d5ebfb46409"
      },
      "source": [
        "var1"
      ],
      "execution_count": null,
      "outputs": [
        {
          "output_type": "execute_result",
          "data": {
            "text/plain": [
              "918"
            ]
          },
          "metadata": {
            "tags": []
          },
          "execution_count": 12
        }
      ]
    },
    {
      "cell_type": "code",
      "metadata": {
        "id": "Tw5ClnwQ5x2v"
      },
      "source": [
        "del var1"
      ],
      "execution_count": null,
      "outputs": []
    },
    {
      "cell_type": "code",
      "metadata": {
        "id": "WB9MPA3xNsrB",
        "colab": {
          "base_uri": "https://localhost:8080/",
          "height": 231
        },
        "outputId": "4b5e28ab-ebdb-453c-8637-3ebefd6de669"
      },
      "source": [
        "# deleting from memory\n",
        "\n",
        "print(var1)\n",
        "del var1\n",
        "print(var1)\n"
      ],
      "execution_count": null,
      "outputs": [
        {
          "output_type": "error",
          "ename": "NameError",
          "evalue": "ignored",
          "traceback": [
            "\u001b[0;31m---------------------------------------------------------------------------\u001b[0m",
            "\u001b[0;31mNameError\u001b[0m                                 Traceback (most recent call last)",
            "\u001b[0;32m<ipython-input-14-c9b6d7537e4b>\u001b[0m in \u001b[0;36m<module>\u001b[0;34m()\u001b[0m\n\u001b[1;32m      1\u001b[0m \u001b[0;31m# deleting from memory\u001b[0m\u001b[0;34m\u001b[0m\u001b[0;34m\u001b[0m\u001b[0;34m\u001b[0m\u001b[0m\n\u001b[1;32m      2\u001b[0m \u001b[0;34m\u001b[0m\u001b[0m\n\u001b[0;32m----> 3\u001b[0;31m \u001b[0mprint\u001b[0m\u001b[0;34m(\u001b[0m\u001b[0mvar1\u001b[0m\u001b[0;34m)\u001b[0m\u001b[0;34m\u001b[0m\u001b[0;34m\u001b[0m\u001b[0m\n\u001b[0m\u001b[1;32m      4\u001b[0m \u001b[0;32mdel\u001b[0m \u001b[0mvar1\u001b[0m\u001b[0;34m\u001b[0m\u001b[0;34m\u001b[0m\u001b[0m\n\u001b[1;32m      5\u001b[0m \u001b[0mprint\u001b[0m\u001b[0;34m(\u001b[0m\u001b[0mvar1\u001b[0m\u001b[0;34m)\u001b[0m\u001b[0;34m\u001b[0m\u001b[0;34m\u001b[0m\u001b[0m\n",
            "\u001b[0;31mNameError\u001b[0m: name 'var1' is not defined"
          ]
        }
      ]
    },
    {
      "cell_type": "markdown",
      "metadata": {
        "id": "AZ4y5s_rNIax"
      },
      "source": [
        "### Data Types"
      ]
    },
    {
      "cell_type": "markdown",
      "metadata": {
        "id": "fOvUlttHBuKU"
      },
      "source": [
        "Python has 5 standard data types, **two** of which are:\n",
        "\n",
        " - Numbers\n",
        "  - **int**     : integers\n",
        "  - **float**   : floating point real number \n",
        "  - **complex** : complex numbers\n",
        " - Strings"
      ]
    },
    {
      "cell_type": "code",
      "metadata": {
        "id": "-I9eDNv3LUD3"
      },
      "source": [
        "x = 2+2       #operation within integers\n",
        "print(x)\n",
        "type(x)       #function \"type\""
      ],
      "execution_count": null,
      "outputs": []
    },
    {
      "cell_type": "code",
      "metadata": {
        "id": "tI4EF7gmgwNr"
      },
      "source": [
        "x = 2.0+2\n",
        "print(x)\n",
        "type(x)"
      ],
      "execution_count": null,
      "outputs": []
    },
    {
      "cell_type": "code",
      "metadata": {
        "id": "NpFRHnSXhOvc"
      },
      "source": [
        "x = 2.0+2.0\n",
        "print(x)\n",
        "type(x)"
      ],
      "execution_count": null,
      "outputs": []
    },
    {
      "cell_type": "code",
      "metadata": {
        "id": "N1l27gB0QSa5",
        "colab": {
          "base_uri": "https://localhost:8080/"
        },
        "outputId": "d0fc4168-ff9f-470a-afca-6029ff9d315f"
      },
      "source": [
        "x = 3.14j\n",
        "print(x)\n",
        "type(x)"
      ],
      "execution_count": null,
      "outputs": [
        {
          "output_type": "stream",
          "text": [
            "3.14j\n"
          ],
          "name": "stdout"
        },
        {
          "output_type": "execute_result",
          "data": {
            "text/plain": [
              "complex"
            ]
          },
          "metadata": {
            "tags": []
          },
          "execution_count": 1
        }
      ]
    },
    {
      "cell_type": "code",
      "metadata": {
        "id": "4XaIV6tGSyIp"
      },
      "source": [
        "x = 20\n",
        "x = float(x)      #function \"float\"\n",
        "print(x)\n",
        "\n",
        "y =20.254\n",
        "y = int(y)        #function \"int\"\n",
        "print(y)\n"
      ],
      "execution_count": null,
      "outputs": []
    },
    {
      "cell_type": "code",
      "metadata": {
        "id": "XYd_auz757Sq"
      },
      "source": [
        "int(20.9)"
      ],
      "execution_count": null,
      "outputs": []
    },
    {
      "cell_type": "code",
      "metadata": {
        "id": "Xg1ij4ykhRQg"
      },
      "source": [
        "x = \"My name is Kittu\"\n",
        "type(x)"
      ],
      "execution_count": null,
      "outputs": []
    },
    {
      "cell_type": "code",
      "metadata": {
        "id": "BMaak3o9haCU"
      },
      "source": [
        "x = \"2+2\"\n",
        "type(x)"
      ],
      "execution_count": null,
      "outputs": []
    },
    {
      "cell_type": "code",
      "metadata": {
        "id": "RqOGNGosDWM1"
      },
      "source": [
        "x = \"Hello\"                           #operations within similar data-types\n",
        "x = x + 2"
      ],
      "execution_count": null,
      "outputs": []
    },
    {
      "cell_type": "markdown",
      "metadata": {
        "id": "XkMn5o52X0UA"
      },
      "source": [
        "## Errors"
      ]
    },
    {
      "cell_type": "markdown",
      "metadata": {
        "id": "rSQgVseIiAUT"
      },
      "source": [
        "### Semantic Error"
      ]
    },
    {
      "cell_type": "code",
      "metadata": {
        "id": "pSso7lk6uSTQ"
      },
      "source": [],
      "execution_count": null,
      "outputs": []
    },
    {
      "cell_type": "markdown",
      "metadata": {
        "id": "7gpxzJO8DtYr"
      },
      "source": [
        "The code runs without producing an error message, but it doesn’t do the **right thing**."
      ]
    },
    {
      "cell_type": "code",
      "metadata": {
        "id": "GQduUup7htEQ",
        "colab": {
          "base_uri": "https://localhost:8080/"
        },
        "outputId": "ae71250d-6852-4954-80a6-5c854bdd4e70"
      },
      "source": [
        "print(1,000,000)"
      ],
      "execution_count": null,
      "outputs": [
        {
          "output_type": "stream",
          "text": [
            "1 0 0\n"
          ],
          "name": "stdout"
        }
      ]
    },
    {
      "cell_type": "code",
      "metadata": {
        "id": "kSnXFCpMuSEA"
      },
      "source": [],
      "execution_count": null,
      "outputs": []
    },
    {
      "cell_type": "markdown",
      "metadata": {
        "id": "-VjUO4s9iRxV"
      },
      "source": [
        "### Syntax Error"
      ]
    },
    {
      "cell_type": "markdown",
      "metadata": {
        "id": "vQmoye7sDxP0"
      },
      "source": [
        "\n",
        "Python is unable to understand your code.\n",
        "- Includes Typos, incorrect arguments, incorrect indentation\n"
      ]
    },
    {
      "cell_type": "code",
      "metadata": {
        "id": "dX9xJwXBh2Fa"
      },
      "source": [
        "print\"Why do you hate me\"                   #incorrect usage of functions"
      ],
      "execution_count": null,
      "outputs": []
    },
    {
      "cell_type": "code",
      "metadata": {
        "id": "Wx77oJxljr_6"
      },
      "source": [
        "76trombones = 'big parade'                #variable naming\n"
      ],
      "execution_count": null,
      "outputs": []
    },
    {
      "cell_type": "code",
      "metadata": {
        "id": "Xof0Lf-BkQMu"
      },
      "source": [
        "hello@ = 1000000                         #variable naming"
      ],
      "execution_count": null,
      "outputs": []
    },
    {
      "cell_type": "code",
      "metadata": {
        "id": "8jx4kRBLj4dS"
      },
      "source": [
        "class=\"Alok\"                              #reserved names"
      ],
      "execution_count": null,
      "outputs": []
    },
    {
      "cell_type": "markdown",
      "metadata": {
        "id": "3WqpVH6ZkaYo"
      },
      "source": [
        "## Reserved words\n"
      ]
    },
    {
      "cell_type": "markdown",
      "metadata": {
        "id": "TzUBdtGMBh4B"
      },
      "source": [
        "**and** , **del** , **from** , **None** , **True** , **as**\n",
        "\n",
        "**elif** , **global** , **nonlocal** , **try** , **assert** \n",
        "\n",
        "**else** , **if** , **not** , **while**, **break** , **except** \n",
        "\n",
        "**import** , **or** , **with** , **class** , **False** , **in**\n",
        "\n",
        "**pass** , **yield** , **continue** , **finally** , **is** , **raise** \n",
        "\n",
        "**async** , **def** , **for** , **lambda** , **return** , **await** "
      ]
    },
    {
      "cell_type": "code",
      "metadata": {
        "id": "09fmfeYbBJs8"
      },
      "source": [
        "def = 2"
      ],
      "execution_count": null,
      "outputs": []
    },
    {
      "cell_type": "markdown",
      "metadata": {
        "id": "btGwgZfzinGf"
      },
      "source": [
        "## Operators & Operands"
      ]
    },
    {
      "cell_type": "markdown",
      "metadata": {
        "id": "Z76v1V1qEWHk"
      },
      "source": [
        "\n",
        "\n",
        "```\n",
        "+  -  *  /  ** // %\n",
        "```\n",
        "\n"
      ]
    },
    {
      "cell_type": "code",
      "metadata": {
        "id": "tK1XK7TwnWWh"
      },
      "source": [
        "a = 2+2\n",
        "b = \"Alok\" + \"Anand\"\n",
        "\n",
        "print(a)\n",
        "print(b)"
      ],
      "execution_count": null,
      "outputs": []
    },
    {
      "cell_type": "code",
      "metadata": {
        "id": "f0H4xrbInopL"
      },
      "source": [
        "a = 2-1\n",
        "b = \"Alok\" - \"A\"\n",
        "\n",
        "print(a,b)"
      ],
      "execution_count": null,
      "outputs": []
    },
    {
      "cell_type": "code",
      "metadata": {
        "id": "ZVxubjgins2R"
      },
      "source": [
        "a = 2*2\n",
        "b = \"Alok\"*2\n",
        "print(a,b)"
      ],
      "execution_count": null,
      "outputs": []
    },
    {
      "cell_type": "code",
      "metadata": {
        "id": "qIWmOEUBn2y9"
      },
      "source": [
        "a = 2**2\n",
        "b = \"Alok\"**2\n",
        "print(a,b)"
      ],
      "execution_count": null,
      "outputs": []
    },
    {
      "cell_type": "code",
      "metadata": {
        "id": "bXeaL2lNod1z"
      },
      "source": [
        "a = 3/2\n",
        "b = 3.0/2\n",
        "print(a,b)"
      ],
      "execution_count": null,
      "outputs": []
    },
    {
      "cell_type": "code",
      "metadata": {
        "id": "izMSnxX5o1pM"
      },
      "source": [
        "a = 19//2\n",
        "a"
      ],
      "execution_count": null,
      "outputs": []
    },
    {
      "cell_type": "code",
      "metadata": {
        "id": "MT62VyILo8AW"
      },
      "source": [
        "a = 3%2\n",
        "a"
      ],
      "execution_count": null,
      "outputs": []
    },
    {
      "cell_type": "markdown",
      "metadata": {
        "id": "C-0g5oyqHE5_"
      },
      "source": [
        "### Order of Operations : PEDMAS\n"
      ]
    },
    {
      "cell_type": "markdown",
      "metadata": {
        "id": "qgmN2nunq2lc"
      },
      "source": [
        "\n",
        "```\n",
        "P  ()\n",
        "E  **\n",
        "D  /\n",
        "M  *\n",
        "A  +\n",
        "S  -\n",
        "\n",
        "```\n",
        "\n"
      ]
    },
    {
      "cell_type": "markdown",
      "metadata": {
        "id": "-JyX7bIXsB_2"
      },
      "source": [
        "![Screenshot from 2020-10-17 23-21-49.png](data:image/png;base64,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)"
      ]
    },
    {
      "cell_type": "code",
      "metadata": {
        "id": "QaEt2EnPH7i7"
      },
      "source": [
        "2*(3-1)"
      ],
      "execution_count": null,
      "outputs": []
    },
    {
      "cell_type": "code",
      "metadata": {
        "id": "6IkNPNnEH--d"
      },
      "source": [
        "2**1+1"
      ],
      "execution_count": null,
      "outputs": []
    },
    {
      "cell_type": "code",
      "metadata": {
        "id": "zUtE5J8sIFlV"
      },
      "source": [
        "2*3/4"
      ],
      "execution_count": null,
      "outputs": []
    },
    {
      "cell_type": "code",
      "metadata": {
        "id": "gyhCrVFtIL_e"
      },
      "source": [
        "2/4*3"
      ],
      "execution_count": null,
      "outputs": []
    },
    {
      "cell_type": "code",
      "metadata": {
        "id": "nzplWjalITqy"
      },
      "source": [
        "5+3-1"
      ],
      "execution_count": null,
      "outputs": []
    },
    {
      "cell_type": "code",
      "metadata": {
        "id": "s1NrTwfBIZYt"
      },
      "source": [
        "5-1+3"
      ],
      "execution_count": null,
      "outputs": []
    },
    {
      "cell_type": "markdown",
      "metadata": {
        "id": "rwzbTol2GC-e"
      },
      "source": [
        "## Assigning values through user"
      ]
    },
    {
      "cell_type": "code",
      "metadata": {
        "id": "pdkke9G-6PLK"
      },
      "source": [
        "var_user = input()"
      ],
      "execution_count": null,
      "outputs": []
    },
    {
      "cell_type": "code",
      "metadata": {
        "id": "YP_oEtQN6PhZ"
      },
      "source": [
        "type(var_user)     #input data type strings"
      ],
      "execution_count": null,
      "outputs": []
    },
    {
      "cell_type": "code",
      "metadata": {
        "id": "7xIP1KpY6Pzv"
      },
      "source": [
        "name = str(input(\"Enter Your name: \"))\n",
        "print(\"Hello \",name,\"!\")"
      ],
      "execution_count": null,
      "outputs": []
    },
    {
      "cell_type": "code",
      "metadata": {
        "id": "4aM64Mja6PVE"
      },
      "source": [
        "name = input('Where are you from?\\n')         ### \\n \\t meaning"
      ],
      "execution_count": null,
      "outputs": []
    },
    {
      "cell_type": "code",
      "metadata": {
        "id": "TBXJJjn-6PHV"
      },
      "source": [
        "age = input(\"Enter your age:\")"
      ],
      "execution_count": null,
      "outputs": []
    },
    {
      "cell_type": "code",
      "metadata": {
        "id": "NUlBD8Lh6We9"
      },
      "source": [
        "type(age)               #age should be int"
      ],
      "execution_count": null,
      "outputs": []
    },
    {
      "cell_type": "code",
      "metadata": {
        "id": "PDg15Sm36WuY"
      },
      "source": [
        "age = int(input(\"Enter your age:\"))            ### Converting strings to Integers\n",
        "                                               ### function within function"
      ],
      "execution_count": null,
      "outputs": []
    },
    {
      "cell_type": "code",
      "metadata": {
        "id": "c2fBtkM26WlG"
      },
      "source": [
        "type(age)"
      ],
      "execution_count": null,
      "outputs": []
    },
    {
      "cell_type": "code",
      "metadata": {
        "id": "Sza9LqL06dRj"
      },
      "source": [
        "age = int(input(\"Enter your age:\"))            ### what if I enter a text like twenty instead of 20"
      ],
      "execution_count": null,
      "outputs": []
    },
    {
      "cell_type": "markdown",
      "metadata": {
        "id": "VYHih5-A6ihk"
      },
      "source": [
        "# SESSION - II"
      ]
    },
    {
      "cell_type": "markdown",
      "metadata": {
        "id": "DbqSXn3hJ8zY"
      },
      "source": [
        "## Suitable naming and commenting"
      ]
    },
    {
      "cell_type": "code",
      "metadata": {
        "id": "9bZnl6MXKBs4"
      },
      "source": [
        "x = input(\"Enter name: \")       #name\n",
        "y = int(input(\"Enter age: \"))   #age\n",
        "z = input(\"Enter city: \")       #city\n"
      ],
      "execution_count": null,
      "outputs": []
    },
    {
      "cell_type": "code",
      "metadata": {
        "id": "Yxd0Y4h5KWzu"
      },
      "source": [
        "#block comments\n",
        "'''\n",
        "this is a program to take the details of the users accessing it.\n",
        "'''\n",
        "\n",
        "#User details\n",
        "\n",
        "name = input(\"Enter name: \")\n",
        "age = input(\"Enter age: \")\n",
        "city = input(\"Enter city: \")"
      ],
      "execution_count": null,
      "outputs": []
    },
    {
      "cell_type": "markdown",
      "metadata": {
        "id": "c4oPHd40pPo6"
      },
      "source": [
        "## Functions"
      ]
    },
    {
      "cell_type": "markdown",
      "metadata": {
        "id": "2YGRgylvzYy1"
      },
      "source": [
        "Function is a  *named* sequence of statements that performs a computation\n",
        "\n"
      ]
    },
    {
      "cell_type": "markdown",
      "metadata": {
        "id": "5ju_nmVB8dwU"
      },
      "source": [
        "Also called as Sub-routines / Procedures / Methods / Sub-programs in other languages"
      ]
    },
    {
      "cell_type": "markdown",
      "metadata": {
        "id": "Gy5psMRN7JD8"
      },
      "source": [
        "Interface of a function\n",
        "\n",
        "**ARGUMENTS TAKEN - > [FUNCTION] - > VALUE RETURNED**"
      ]
    },
    {
      "cell_type": "markdown",
      "metadata": {
        "id": "zTYY_ftz0YD5"
      },
      "source": [
        "**1 . Built-in functions** \n",
        "\n",
        "* Examples: len(), max(),min()\n",
        "* They are reserved words"
      ]
    },
    {
      "cell_type": "markdown",
      "metadata": {
        "id": "iMKiEkzF97G7"
      },
      "source": [
        "\n",
        "Modules : Collection of a long set  of functions in a separate file is called a module\n",
        "\n",
        "Package : Collection of module is called package "
      ]
    },
    {
      "cell_type": "markdown",
      "metadata": {
        "id": "mFw0AnRm-MXa"
      },
      "source": [
        "Example of packages:  math, numpy, pandas, matplotlib, scikitlearn, sframe, keras, nltk, biopython, scipy etc. \n"
      ]
    },
    {
      "cell_type": "markdown",
      "metadata": {
        "id": "XyvhhD_u-XuN"
      },
      "source": [
        "** How to use Packages and functions within those modules **"
      ]
    },
    {
      "cell_type": "code",
      "metadata": {
        "id": "vdURFm00-bWN"
      },
      "source": [
        "##Import them first and give them short easy and beautiful alises.\n",
        "import math"
      ],
      "execution_count": null,
      "outputs": []
    },
    {
      "cell_type": "code",
      "metadata": {
        "id": "rZfEuSrp2eb4"
      },
      "source": [
        "math.sqrt(10)    #square root"
      ],
      "execution_count": null,
      "outputs": []
    },
    {
      "cell_type": "code",
      "metadata": {
        "id": "FYv6awfR2ha1"
      },
      "source": [
        "math.sin(math.pi/2)    #Trignometric Values"
      ],
      "execution_count": null,
      "outputs": []
    },
    {
      "cell_type": "code",
      "metadata": {
        "id": "Z3lWDR3I-2Wy"
      },
      "source": [
        "import numpy as np"
      ],
      "execution_count": null,
      "outputs": []
    },
    {
      "cell_type": "code",
      "metadata": {
        "id": "-t-H-jLJ2rbg",
        "colab": {
          "base_uri": "https://localhost:8080/"
        },
        "outputId": "843796bd-0e77-4c1e-93c0-e63cb9a69b33"
      },
      "source": [
        "# Divide (0-10) b/w 100 equal points\n",
        "np.linspace(0,10,100)"
      ],
      "execution_count": null,
      "outputs": [
        {
          "output_type": "execute_result",
          "data": {
            "text/plain": [
              "array([ 0.        ,  0.1010101 ,  0.2020202 ,  0.3030303 ,  0.4040404 ,\n",
              "        0.50505051,  0.60606061,  0.70707071,  0.80808081,  0.90909091,\n",
              "        1.01010101,  1.11111111,  1.21212121,  1.31313131,  1.41414141,\n",
              "        1.51515152,  1.61616162,  1.71717172,  1.81818182,  1.91919192,\n",
              "        2.02020202,  2.12121212,  2.22222222,  2.32323232,  2.42424242,\n",
              "        2.52525253,  2.62626263,  2.72727273,  2.82828283,  2.92929293,\n",
              "        3.03030303,  3.13131313,  3.23232323,  3.33333333,  3.43434343,\n",
              "        3.53535354,  3.63636364,  3.73737374,  3.83838384,  3.93939394,\n",
              "        4.04040404,  4.14141414,  4.24242424,  4.34343434,  4.44444444,\n",
              "        4.54545455,  4.64646465,  4.74747475,  4.84848485,  4.94949495,\n",
              "        5.05050505,  5.15151515,  5.25252525,  5.35353535,  5.45454545,\n",
              "        5.55555556,  5.65656566,  5.75757576,  5.85858586,  5.95959596,\n",
              "        6.06060606,  6.16161616,  6.26262626,  6.36363636,  6.46464646,\n",
              "        6.56565657,  6.66666667,  6.76767677,  6.86868687,  6.96969697,\n",
              "        7.07070707,  7.17171717,  7.27272727,  7.37373737,  7.47474747,\n",
              "        7.57575758,  7.67676768,  7.77777778,  7.87878788,  7.97979798,\n",
              "        8.08080808,  8.18181818,  8.28282828,  8.38383838,  8.48484848,\n",
              "        8.58585859,  8.68686869,  8.78787879,  8.88888889,  8.98989899,\n",
              "        9.09090909,  9.19191919,  9.29292929,  9.39393939,  9.49494949,\n",
              "        9.5959596 ,  9.6969697 ,  9.7979798 ,  9.8989899 , 10.        ])"
            ]
          },
          "metadata": {
            "tags": []
          },
          "execution_count": 23
        }
      ]
    },
    {
      "cell_type": "code",
      "metadata": {
        "id": "OsvUDFVI3KrA",
        "colab": {
          "base_uri": "https://localhost:8080/"
        },
        "outputId": "6333e799-eb28-41bf-dfd4-002f69223a15"
      },
      "source": [
        "# Multiplying two matrices\n",
        "mat_1 = np.array([1,2,3,4,5,6]).reshape(2,3)\n",
        "mat_2 = np.array([1,2,3,4,5,6]).reshape(3,2)\n",
        "np.dot(mat_1,mat_2)"
      ],
      "execution_count": null,
      "outputs": [
        {
          "output_type": "execute_result",
          "data": {
            "text/plain": [
              "array([[22, 28],\n",
              "       [49, 64]])"
            ]
          },
          "metadata": {
            "tags": []
          },
          "execution_count": 24
        }
      ]
    },
    {
      "cell_type": "code",
      "metadata": {
        "id": "YZen2Ezh9p9O",
        "colab": {
          "base_uri": "https://localhost:8080/"
        },
        "outputId": "a99079c1-e802-40e0-fcce-aa041dab2096"
      },
      "source": [
        "np.array([1,2,3,4,5,6]).reshape(2,3)"
      ],
      "execution_count": null,
      "outputs": [
        {
          "output_type": "execute_result",
          "data": {
            "text/plain": [
              "array([[1, 2, 3],\n",
              "       [4, 5, 6]])"
            ]
          },
          "metadata": {
            "tags": []
          },
          "execution_count": 25
        }
      ]
    },
    {
      "cell_type": "code",
      "metadata": {
        "id": "8-IpELW03ek4",
        "colab": {
          "base_uri": "https://localhost:8080/",
          "height": 265
        },
        "outputId": "8e5dfbb4-3889-4b73-f8e3-fa8f5937521d"
      },
      "source": [
        "import matplotlib.pyplot as plt\n",
        "\n",
        "x = np.linspace(-10,10,100)\n",
        "plt.plot(x,x**2);"
      ],
      "execution_count": null,
      "outputs": [
        {
          "output_type": "display_data",
          "data": {
            "image/png": "[encoded data removed]",
            "text/plain": [
              "<Figure size 432x288 with 1 Axes>"
            ]
          },
          "metadata": {
            "tags": [],
            "needs_background": "light"
          }
        }
      ]
    },
    {
      "cell_type": "code",
      "metadata": {
        "id": "2kU7chaU3thZ"
      },
      "source": [
        "import random as rn"
      ],
      "execution_count": null,
      "outputs": []
    },
    {
      "cell_type": "code",
      "metadata": {
        "id": "2jI51gPo_S1B",
        "colab": {
          "base_uri": "https://localhost:8080/"
        },
        "outputId": "f3d58499-a3ac-41f7-f5ad-971bdc1bb403"
      },
      "source": [
        "help(rn.randrange)         #reading about what the function does"
      ],
      "execution_count": null,
      "outputs": [
        {
          "output_type": "stream",
          "text": [
            "Help on method randrange in module random:\n",
            "\n",
            "randrange(start, stop=None, step=1, _int=<class 'int'>) method of random.Random instance\n",
            "    Choose a random item from range(start, stop[, step]).\n",
            "    \n",
            "    This fixes the problem with randint() which includes the\n",
            "    endpoint; in Python this is usually not what you want.\n",
            "\n"
          ],
          "name": "stdout"
        }
      ]
    },
    {
      "cell_type": "code",
      "metadata": {
        "id": "j3DHn2SU9vbD"
      },
      "source": [
        "?rn.randrange"
      ],
      "execution_count": null,
      "outputs": []
    },
    {
      "cell_type": "markdown",
      "metadata": {
        "id": "JsNqxUTj7Zvs"
      },
      "source": [
        "**2. User-defined functions**\n",
        "\n",
        "Why write functions? \n",
        "*   Creating a new function gives you an opportunity to name a group of statements, which makes your program easier to read, understand, and debug\n",
        "*   Functions can make a program smaller by eliminating repetitive code. Later, if you make a change, you only have to make it in one place. \n",
        "*   Dividing a long program into functions allows you to debug the parts one at a time and then assemble them into a working whole.\n",
        "*   Well-designed functions are often useful for many programs. Once you write and debug one, you can reuse it"
      ]
    },
    {
      "cell_type": "code",
      "metadata": {
        "id": "rhrLAijc5B99"
      },
      "source": [
        "#With no arguments\n",
        "def square():\n",
        "  print(2**2)"
      ],
      "execution_count": null,
      "outputs": []
    },
    {
      "cell_type": "code",
      "metadata": {
        "id": "ZpBeJYzMLPin",
        "colab": {
          "base_uri": "https://localhost:8080/"
        },
        "outputId": "b3913b3f-1240-4ce3-9046-3d3d20f93245"
      },
      "source": [
        "print(square())"
      ],
      "execution_count": null,
      "outputs": [
        {
          "output_type": "stream",
          "text": [
            "4\n",
            "None\n"
          ],
          "name": "stdout"
        }
      ]
    },
    {
      "cell_type": "code",
      "metadata": {
        "id": "HbcK03pOLR8B"
      },
      "source": [
        "def square(number):                                           # Defining function name\n",
        "  print(\"Square of given number is:\")  \n",
        "  res =  number**2                                             # Implementing what to do\n",
        "  return res                                                   # Return function"
      ],
      "execution_count": null,
      "outputs": []
    },
    {
      "cell_type": "code",
      "metadata": {
        "id": "wezcaGWcLcgH",
        "colab": {
          "base_uri": "https://localhost:8080/"
        },
        "outputId": "cb6d23c3-3ed5-4ffb-a407-9e09b0a8d5f2"
      },
      "source": [
        "square(2)"
      ],
      "execution_count": null,
      "outputs": [
        {
          "output_type": "stream",
          "text": [
            "Square of given number is:\n"
          ],
          "name": "stdout"
        },
        {
          "output_type": "execute_result",
          "data": {
            "text/plain": [
              "4"
            ]
          },
          "metadata": {
            "tags": []
          },
          "execution_count": 34
        }
      ]
    },
    {
      "cell_type": "code",
      "metadata": {
        "id": "9ze1by3j-E9z"
      },
      "source": [
        "def sq_sum_diff(a,b,c):\n",
        "    res = a**2 - 8*b +  c           #function is incomplete without return\n",
        "\n",
        "sq_sum_diff(2,3,4)"
      ],
      "execution_count": null,
      "outputs": []
    },
    {
      "cell_type": "code",
      "metadata": {
        "id": "fIXhvQRZ-FSl",
        "colab": {
          "base_uri": "https://localhost:8080/"
        },
        "outputId": "a4b821bb-87c4-426a-ec27-f82cfa597362"
      },
      "source": [
        "def sq_sum_diff(a,b,c):\n",
        "    res = a**2 - 8*b +  c\n",
        "    return res\n",
        "\n",
        "sq_sum_diff(2,3,4)"
      ],
      "execution_count": null,
      "outputs": [
        {
          "output_type": "execute_result",
          "data": {
            "text/plain": [
              "-16"
            ]
          },
          "metadata": {
            "tags": []
          },
          "execution_count": 35
        }
      ]
    },
    {
      "cell_type": "markdown",
      "metadata": {
        "id": "_hjma7FdLb4u"
      },
      "source": [
        "## Conditionals"
      ]
    },
    {
      "cell_type": "markdown",
      "metadata": {
        "id": "_heOT2bq-Zy7"
      },
      "source": [
        "Converting a problem into pseudo-text code:\n",
        "\n",
        "if total_sum is 200 \n",
        "  then i will get a choc\n",
        "otherwise i will not get "
      ]
    },
    {
      "cell_type": "markdown",
      "metadata": {
        "id": "fN26a-Gq-ncS"
      },
      "source": []
    },
    {
      "cell_type": "markdown",
      "metadata": {
        "id": "G1urWBSEkst-"
      },
      "source": [
        "### Boolean expressions: True or False?"
      ]
    },
    {
      "cell_type": "markdown",
      "metadata": {
        "id": "Q3KFmwpS-taC"
      },
      "source": []
    },
    {
      "cell_type": "markdown",
      "metadata": {
        "id": "9PbDr54RM3-F"
      },
      "source": [
        "\n",
        "\n",
        "```\n",
        "==    !=\n",
        ">     <\n",
        ">=    <=\n",
        "is    is not\n",
        "```\n",
        "\n"
      ]
    },
    {
      "cell_type": "markdown",
      "metadata": {
        "id": "9woJwEPo-vHD"
      },
      "source": [
        "```\n",
        "is equal  ==\n",
        "not equal  !=\n",
        "greater than >\n",
        "less than <\n",
        "less than or eual <=\n",
        "greater than or equal >=\n",
        "```"
      ]
    },
    {
      "cell_type": "code",
      "metadata": {
        "id": "La4HRwaB8kPI",
        "colab": {
          "base_uri": "https://localhost:8080/"
        },
        "outputId": "9d6c0545-cf08-4bc2-a194-5381820e837f"
      },
      "source": [
        "5 == 5"
      ],
      "execution_count": null,
      "outputs": [
        {
          "output_type": "execute_result",
          "data": {
            "text/plain": [
              "True"
            ]
          },
          "metadata": {
            "tags": []
          },
          "execution_count": 1
        }
      ]
    },
    {
      "cell_type": "code",
      "metadata": {
        "id": "Yg4ZDhN9kzEd",
        "colab": {
          "base_uri": "https://localhost:8080/"
        },
        "outputId": "60966cfe-5a51-48cc-b9a2-b2b0c27796c4"
      },
      "source": [
        "5 == 6"
      ],
      "execution_count": null,
      "outputs": [
        {
          "output_type": "execute_result",
          "data": {
            "text/plain": [
              "False"
            ]
          },
          "metadata": {
            "tags": []
          },
          "execution_count": 2
        }
      ]
    },
    {
      "cell_type": "code",
      "metadata": {
        "id": "DIew_ZLBk613",
        "colab": {
          "base_uri": "https://localhost:8080/"
        },
        "outputId": "ab2171a3-d63b-44c9-848a-853e0aeced00"
      },
      "source": [
        "5>6"
      ],
      "execution_count": null,
      "outputs": [
        {
          "output_type": "execute_result",
          "data": {
            "text/plain": [
              "False"
            ]
          },
          "metadata": {
            "tags": []
          },
          "execution_count": 3
        }
      ]
    },
    {
      "cell_type": "code",
      "metadata": {
        "id": "Gb0AGyTfk8BD",
        "colab": {
          "base_uri": "https://localhost:8080/"
        },
        "outputId": "67724809-e18a-458d-cdc7-96a7acee24c8"
      },
      "source": [
        "type(True)"
      ],
      "execution_count": null,
      "outputs": [
        {
          "output_type": "execute_result",
          "data": {
            "text/plain": [
              "bool"
            ]
          },
          "metadata": {
            "tags": []
          },
          "execution_count": 4
        }
      ]
    },
    {
      "cell_type": "code",
      "metadata": {
        "id": "XYKu0IGrlA7w",
        "colab": {
          "base_uri": "https://localhost:8080/"
        },
        "outputId": "8d272f64-7f65-40d5-dfe4-a0a0499b689b"
      },
      "source": [
        "type(False)"
      ],
      "execution_count": null,
      "outputs": [
        {
          "output_type": "execute_result",
          "data": {
            "text/plain": [
              "bool"
            ]
          },
          "metadata": {
            "tags": []
          },
          "execution_count": 5
        }
      ]
    },
    {
      "cell_type": "code",
      "metadata": {
        "id": "f9XvWAw1lEnj",
        "colab": {
          "base_uri": "https://localhost:8080/"
        },
        "outputId": "dd904f41-3477-40e5-d7d2-49b352a05640"
      },
      "source": [
        "2<=10"
      ],
      "execution_count": null,
      "outputs": [
        {
          "output_type": "execute_result",
          "data": {
            "text/plain": [
              "True"
            ]
          },
          "metadata": {
            "tags": []
          },
          "execution_count": 6
        }
      ]
    },
    {
      "cell_type": "code",
      "metadata": {
        "id": "nAD_oLxolMZP",
        "colab": {
          "base_uri": "https://localhost:8080/"
        },
        "outputId": "22474ec1-ff02-4d22-85f4-25abdc5dc44c"
      },
      "source": [
        "x = 10\n",
        "x is 10"
      ],
      "execution_count": null,
      "outputs": [
        {
          "output_type": "execute_result",
          "data": {
            "text/plain": [
              "True"
            ]
          },
          "metadata": {
            "tags": []
          },
          "execution_count": 7
        }
      ]
    },
    {
      "cell_type": "markdown",
      "metadata": {
        "id": "BCSLgtDJlZaK"
      },
      "source": [
        "### Logical operators"
      ]
    },
    {
      "cell_type": "markdown",
      "metadata": {
        "id": "-Ekor0y1PDAq"
      },
      "source": [
        "\n",
        "\n",
        "```\n",
        "and\n",
        "or\n",
        "not\n",
        "```\n",
        "\n"
      ]
    },
    {
      "cell_type": "markdown",
      "metadata": {
        "id": "MNzCf_JKPl2w"
      },
      "source": [
        "![Screenshot from 2020-10-17 21-17-37.png](data:image/png;base64,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)"
      ]
    },
    {
      "cell_type": "code",
      "metadata": {
        "id": "OgY1eqK5O6qW",
        "colab": {
          "base_uri": "https://localhost:8080/"
        },
        "outputId": "bfea1ec8-1f82-4612-924e-1cee4c531246"
      },
      "source": [
        "x=3.14\n",
        "#x=30\n",
        "\n",
        "x>0 and x<10"
      ],
      "execution_count": null,
      "outputs": [
        {
          "output_type": "execute_result",
          "data": {
            "text/plain": [
              "True"
            ]
          },
          "metadata": {
            "tags": []
          },
          "execution_count": 8
        }
      ]
    },
    {
      "cell_type": "code",
      "metadata": {
        "id": "laFtGLGdPYsT",
        "colab": {
          "base_uri": "https://localhost:8080/"
        },
        "outputId": "2e5f87fb-e996-460d-ed32-33c0ff386003"
      },
      "source": [
        "#x=3.14\n",
        "x=30\n",
        "\n",
        "x>0 or x<10"
      ],
      "execution_count": null,
      "outputs": [
        {
          "output_type": "execute_result",
          "data": {
            "text/plain": [
              "True"
            ]
          },
          "metadata": {
            "tags": []
          },
          "execution_count": 9
        }
      ]
    },
    {
      "cell_type": "code",
      "metadata": {
        "id": "JKzo_yRnPvay",
        "colab": {
          "base_uri": "https://localhost:8080/"
        },
        "outputId": "eb072943-08d0-4ba3-889d-05c7d5d31178"
      },
      "source": [
        "x=3.14\n",
        "\n",
        "not x<0"
      ],
      "execution_count": null,
      "outputs": [
        {
          "output_type": "execute_result",
          "data": {
            "text/plain": [
              "True"
            ]
          },
          "metadata": {
            "tags": []
          },
          "execution_count": 10
        }
      ]
    },
    {
      "cell_type": "markdown",
      "metadata": {
        "id": "mXBg0jUnct1q"
      },
      "source": [
        "### Constructing Logical Operations Strategically"
      ]
    },
    {
      "cell_type": "code",
      "metadata": {
        "id": "S5uyXA8uctVj",
        "colab": {
          "base_uri": "https://localhost:8080/"
        },
        "outputId": "7e314f2e-ce3a-4593-80f6-045ea0ed5853"
      },
      "source": [
        " x=6\n",
        " y=0\n",
        " x<2 and (x/y)>=2"
      ],
      "execution_count": null,
      "outputs": [
        {
          "output_type": "execute_result",
          "data": {
            "text/plain": [
              "False"
            ]
          },
          "metadata": {
            "tags": []
          },
          "execution_count": 11
        }
      ]
    },
    {
      "cell_type": "code",
      "metadata": {
        "id": "mw7wIsKFcw41",
        "colab": {
          "base_uri": "https://localhost:8080/",
          "height": 201
        },
        "outputId": "f8410b76-b87e-4f41-efe8-067062855b92"
      },
      "source": [
        " x=6\n",
        " y=0\n",
        " x>2 and (x/y)<=2"
      ],
      "execution_count": null,
      "outputs": [
        {
          "output_type": "error",
          "ename": "ZeroDivisionError",
          "evalue": "ignored",
          "traceback": [
            "\u001b[0;31m---------------------------------------------------------------------------\u001b[0m",
            "\u001b[0;31mZeroDivisionError\u001b[0m                         Traceback (most recent call last)",
            "\u001b[0;32m<ipython-input-12-09ab0868b825>\u001b[0m in \u001b[0;36m<module>\u001b[0;34m()\u001b[0m\n\u001b[1;32m      1\u001b[0m \u001b[0mx\u001b[0m\u001b[0;34m=\u001b[0m\u001b[0;36m6\u001b[0m\u001b[0;34m\u001b[0m\u001b[0;34m\u001b[0m\u001b[0m\n\u001b[1;32m      2\u001b[0m \u001b[0my\u001b[0m\u001b[0;34m=\u001b[0m\u001b[0;36m0\u001b[0m\u001b[0;34m\u001b[0m\u001b[0;34m\u001b[0m\u001b[0m\n\u001b[0;32m----> 3\u001b[0;31m \u001b[0mx\u001b[0m\u001b[0;34m>\u001b[0m\u001b[0;36m2\u001b[0m \u001b[0;32mand\u001b[0m \u001b[0;34m(\u001b[0m\u001b[0mx\u001b[0m\u001b[0;34m/\u001b[0m\u001b[0my\u001b[0m\u001b[0;34m)\u001b[0m\u001b[0;34m<=\u001b[0m\u001b[0;36m2\u001b[0m\u001b[0;34m\u001b[0m\u001b[0;34m\u001b[0m\u001b[0m\n\u001b[0m",
            "\u001b[0;31mZeroDivisionError\u001b[0m: division by zero"
          ]
        }
      ]
    },
    {
      "cell_type": "markdown",
      "metadata": {
        "id": "8sBd6VPSON9g"
      },
      "source": [
        "### Conditions Statements:  If/else"
      ]
    },
    {
      "cell_type": "markdown",
      "metadata": {
        "id": "39jYoMaxRQFE"
      },
      "source": [
        "#### If"
      ]
    },
    {
      "cell_type": "markdown",
      "metadata": {
        "id": "7clZCF0doI4b"
      },
      "source": [
        "\n",
        "![image.png](data:image/png;base64,iVBORw0KGgoAAAANSUhEUgAAAQMAAAC9CAYAAAC3Zhh6AAAZtklEQVR4Ae1dWY8bxRb23/DzvM5blBeEwE9+CZD7wksEvmIUCBDgoohYGiEgLGEzDEvCFjAkYSc0hECADJg1LEMMAQYYzBqSwSwhhMGQMAzmXH1ll11utz2uHi/t7q8ly+12d1fVd059fc6pU9Ux4UYEiAAREJEYUSACRIAIAAGSAfWACBABhQDJgIpABIgAyYA6QASIQB0BWgZ1LLhHBCKNAMkg0uJn44lAHQGSQR0L7hGBSCNAMoi0+Nl4IlBHgGRQx4J7RCDSCJAMIi1+Np4I1BEgGdSx4B4RiDQCJINIi5+NJwJ1BCJFBrFYpJpblzL3iEAHCESmd4AI9KcDXHgKEYgcAiSDyImcDSYC3giQDLxx4VEiEDkESAaREzkbTAS8ESAZeOPCo0QgcgiQDCIncjaYCHgjQDLwxoVHiUDkECAZRE7kbDAR8EaAZOCNC48SgcghQDKInMjZYCLgjQDJwBsXHiUCkUOAZBA5kbPBRMAbAZKBNy48SgQihwDJIHIiZ4OJgDcCJANvXHiUCEQOgVCSQaFQEMdxGj56+jK+zf/27t0bOaGzwUTAC4FQksGhQ4dqaxeYJOC1D2LgRgSIQIhfvLp69eqOCOHIkSPUAyJABML8FuY9e/YsSgbr16+nEhABIlBFIJRuAtp27NixRcmA8QL2AyJQRyC0ZIAmbty4sSUhLF++XBFGHQruEYFoIxBqMti/f39LMti0aVO0Jc/WEwEXAqEmA7QVFoDXKAKGH7kRASJQRyD0ZLBt27YmMli5cmUdAe4RASKgEAg9GXjlHDC3gNpPBJoRCD0ZoMnunAPmFjQrAo8QgUiQgZlzwNwCKj0R8EYgEmRg5hwwt8BbEXiUCESCDCBm5Bwwt4AKTwRaIxAJMvj333/lgw8+EOQWYB8fbkSACDQiEEoy0B0e3//884/88MMP8vjjj8uGDRtkenpaFhYWpFwukxgadYG/Io5AqMhAkwAIYH5+Xt59911FAEg6glWAnIPTTjtNTjnlFNm1a5ccPXq0gRgirgtsfsQRGHoy0ASAJz2e+MViUR555BHV4dHxMZKAAKK5IU1Zz1uYmJiQjz/+uIEUcE9uRCBqCAw1GaDTahJwWwGdpBsj3wAJSCCNU089VVkLc3NzyrUIPSGUpiWbGpVYfK04s/ONel8+IM7YqMQSGyRXdP3XeCZ/hQiBoSQDdFRtBTz66KOqI7eyAjqVldtacMcWOr3PMJ1XnnVkLB6TeDonc7WKl2UuNy7x2ArJ5I/WjnIn/AgMDRnAAkAs4O+//26KBXRiBXQqSi9r4bffflNl66Bjp/cK/nnzMuusbez4pSnJJEYkkZmSksxLMb9d0ol4ZX5HPCWZyYKUVMNc/8ViEk9tlilaEsEXe4saBp4MtCvw448/ymOPPdYVK6AFFk2HTWvhlltukU8//TR8LkTNJZiQfOmI5DMrJJbA/oKU8hOSiI1KKjtdIYbcBkloi2EuJ+l4vEoaIlJ1OxqtjCZIeSDACASWDEACsAT27dsnV155pXoyYUSgm1ZAp3JxWwvPPfeclEql0OQrVNyFuCRSq1TnH3MOSFkOSy69TGLJrBTKGqnKMdXhi46kYgYZ6FP4PbQIBIoMtBXw008/9d0K6FSCXtbC8LsP2l2ISXzMkVl0/oW8ZEZiMpLJy0INnAUpOmskFh+X3K8HJTeerE4PH5VU5mFxdualWCOO2kXcGRIEAkEG2gqYmpoauBXQqdxaWQtDSwzqST8iKedgBYIqGXgtDBOLrRGnWKGIcjEvO50dkk1XiaHBkugUTZ4XBAQGRgamFYDsQAztLXVEYFCAelkLcHHQxqHZ3GRQdRMaLYPjUsie7nIddAur/xlEof/h93Ag0FcyQOfAB8OC7733nlx11VUDjQV0W0Re1sLvv/9eS33udnldvV8TGZQrAcR4SiamilKWspRmtkoqPipjzjcyp4KLSRnPzYryDMqzFbcBLsQcfYWuyqZPN+sLGYAA8KQcxIhAn3BsKsZtLXzyySeKBDUhNl0w6ANNZIAKuYcPk5LeOlWNC8xJYXJCUvFYNW6AocUJmSzUMxYG3SSWb4dAz8hAKz1IAFbAoEcE7GDp3tmtrAWNT/dK4p2IwNIQ6DoZQMkRRAvyiMDSIPN/tWkt3HrrrfLZZ5/Vkpn835VXEoHuINAVMtAEEJS8gO5A07u7uK2F3bt3q7yFoR2J6B1UvHMfEVgSGWhT9+eff5YnnnhCjQYM64hAHzFvKMrLWiApNEDEH31CwJoMNAHgO5/Py9VXXx2SEYE5mcmOSTyGgNiopCb29jWBxrQWQKgvvPCC/Pnnn8M1PNknpWUxvUGgYzLQroAeEYDChscK0MNolem85eKkjCdOkHTucG9QX+SuprVw2223yczMDElhEcz499IRWJQMQALICwhmduBRNbGmkkLb2KE1NAv5jIymMrKjbapsSfKZhJF66/6t79bfb7e18Pzzz9eG8bwzA+vDfPy/gkV/JTbcpbUlA/iuWD7s8ssvV0qI1YHcqwYNvPlqyu0yGctul+sSy6Qyycas1ZwUck41XTYp6awjuaax8IPipJbVU3GlmoOfcqRo3mqA++a7H9jROye9AYps6IpuSwawCDCX//333xdM4U0mk2o5Ma+lxAbX8qpFgPn0epJNq8qUCpJztlTm5zes4hNcMjBdBpJA5ySgsWqlCjzejEBbMoBVgJECrBH48ssvy86dO1XAcGxsLEBBQ48Zd83trBxpSQZut8D9u9UNe3NcuwdYuPXkk09Wi7pi+BFyOHjwoPzxxx8ql6M3pQ//XTUR4Jtb5wi0Reuvv/5SyUN4Or344ouyY8cOue+++wRBreuuu07Wrl2rlHXFihWeC492Xg3/Z1bm4q+QTG63ZHy7CdWlvqrWQu2efV72y7QC8H7I8fFxufvuu+Xhhx9W+OP/AwcOqJwE5HRw80aAZOCNy2JH25IBlhjDUwoLirz99tsyOTmpCOGBBx4QfO666y7lPlx00UVy5pln9t9aqK7SU1ldZykBRBEpF2VqIlUdWkxK2pmpLu+1GIRL+19bASDUE088Uc477zy5/vrrZfPmzXLvvfeqlZ6xmArwhxzwDgjEbRDP4eaNAMnAG5fFjrYlAzx9MNaN1OKvvvpKvYDkrbfeUk8pWApYWfjBBx9UTy+k12L+wbnnnisnnXSSDNJaWKzRQfjftALgduGFsIjL3HHHHYpokcT17LPPymuvvabeBgX8IQes3gySxigPtwoCetl7kwRa7SPexc0bgbZkAIUDIcBdwFRcPMVmZ2fVEwpPKbyy7M033xT4s1iTAC8pgbWAdxEMzFrwbmcgjrqtgPPPP1+5W7AC4H7hfQ+Iy7zyyitquTfMdIRbgLgN8IccENRlhmKjOEGsrTq/+zhkwM0bgbZkoC/RCUdQxOPHj6unE55QUNLvvvtOLRSK9xa8+uqr8swzz8hDDz0k99xzj4otYM2CqFsLXlYALClgBAJ98sknVcwFVtdHH30kX3/9tZru/euvvyrLDJaAJgBaBForG7/xUl13x3f/hgXBrTUCHZGBeTmUEqSAj7YYQArffvutypTDdOWXXnpJuRBQdCg8FP+GG26QCy64QM4444z+xxbMBvRp320FgBBBjLCa4Aps3bpVYYREIpAARgpAAngjFF77hriAJoE+VXmoi4GuuTu/+/fevXuHuo29rrw1GZgV0hYDlBaxBVgL8Guh1B9++KG8/vrrKr4A//f++++XO++8U3UGJDGtWbMmlLEFtxWwbt06uemmm1RAcMuWLcoVQCwA2AAjuFtwvUAeGDLEcC5cM1oApqYtvn/o0KG2ZADLgVt7BJZEBuat3cQA5YaAvvjiC5W0BBcCnQDvPoB/fPvtt8vNN98sF1544dBbC15WwLXXXqssIgwNIsiKWABGY5DWjXUMgM0vv/yiCFTHAkgApkbZ72M41m0N6N9YZp9bewS6RgZmMVBqPN0QX0Dg6/DhwyoQhpeQoDNoNwLj5+gscCOuuOKKobMW3FYARgRAcNoNgEUENwDmKdwAjAhgaBAWFLABRjoWYOLHfX8ItEvZBvlya49Az8hAEwLMXrgQ8IPREb755hsVJIOfjKzGp556SrZv365IAf70jTfeGOjYgtsKgLuDadyoO0ZS4A6BBDAF+Y033lAjLrCOvv/+e2UJ4OUrsAS0KwCcaBG0V9JO/0WcRVsC5vfKlSs7vUWkz+sJGZiIQtF10BGdAH4xOhT8ZB1bQKdBYg1eoopkJjxZ8YSFtRCUkQi3FXDJJZdIJpNR7g6Sg1B3uEG5XE4NC37++ecqdRjBVW0J6IAgO7+pId3d98o5YG5BZxj3nAx0NfQTUBMDzGQ8JeFC6OFJuBCILezatUul4CK2AF8PnW4QsQW3FQBiuuaaa5Rbo4cFkXgFtwd1hxsEgoMFhAlesIjMgCBJQGtD775B2qZVgH3IkdviCPSNDMyqaGsBpjI6C6wFBNMwCccMOMJaQDITTG8k5sAU78dIhNsK0CMCCHpiRACxDuRTaBJAQBB11wFBc1iQBGBKvj/7Jhkwt6BzzAdCBmb1NDFoUkBsAWPtX375pRp6Q2wB/jf8cJ3hiLRd5O9jolS38hbcVoCOBehhQRASXAFYLTpFGCsQ6VEBPSzIDEFTuoPZN8mAuQWdy2DgZGBWFS4ErAXEFuBC4Emr05+x3qJOfdbDk3AhEFu47LLLfI9EeFkBOhYAN0UPCyJFGAlVcAXg1sC9gSsAK0ATgNkW7g8OAZMMBleL4Ss5UGSg4YO10MqFACkgSPf000+rjorgHaZUYxQCJiFm/S1mLbitgLPPPlsFK2Ft6FEBjHCgDEzIeueddxQJYJ4Akqr0PAE9IqDrze9gIEAy8CeHQJKB2RQQA568ZsARnRKTeOBCwG9Hbj/Se/WUaqQ+X3rppXLOOefUshy1guho81lnnSUXX3yxmiikcwNgCcDq0CnC09PTyl3RAUEzFmDWkfvBQkDLGt/cOkdgaNDSsQUQAzolJvFg7B7Re5j6SO/Vsyfh38OFwFNexxZMBcFUa+0K6BRhxAKQ97Bv3z6VIox7owy4K+aIQOfQDvZMs73ct18uLSyY2Wjh0JCB2ahWbgTG9rFeI4Ynkf6LgJ8enjSFi2FBxAKQ8IQUYcy4RCwAk630dGFNAIhjDOOG9kZ50/KOOgY27R96jdF5C7AW9LRquBEw8fGUhxuBTq+VA9/aDcB0YZ0irPMCwhIMjDoZ2HSCsJ5rqwNDTwawEkxLAaSAjo3hSU0KCACaZAC3AkOXGKnAiAWGBc3JQrjfsG+2ijDs7WX9mxGw1YGhJwMTAnRibSkg4KiTmdDpTTLQKcIgjmF3B8z2m/u2imBey/1wIGCrA6EiAy1CTQp6eBJpwSYZgCi0OxAGK0C32/y2VQTzWu6HAwFbHQglGZii1MRgksGwBgXNdi22b6sIi92P/w8fArY6EHoy0CI0yUAfC/O3rSKEGYuots1WB0gGIdUUW0UIKQyRbpatDpAMQqoutooQUhgi3SxbHSAZhFRdbBUhpDBEulm2OkAyCKm62CpCSGGIdLNsdYBkEFJ1sVWEkMIQ6WbZ6gDJIKTqYqsIIYUh0s2y1QGSQUjVxVYRQgpDpJtlqwMkg5Cqi60ihBSGSDfLVgdIBiFVF1tFCCkMkW6WrQ6QDEKqLraKsDQYFqTorJFYypGixY3KhaysGHNkduGAOGP/kUy+tPjVRUdSsTXiFBcWP7frZ7Rop+866fttl5ezYzLmHJBurp5hqwMkg64rTDBuaKsIPa/1Ql4yI4l6hy+DAFZJJn9UBJ0pmZVCN3tCFxu0kM/IyEhG8ib/uNvjt7y5nKTHHCnie2StOLPzfu/UdJ2tDpAMmiAMxwFbRfBudeXJFU+tk3WJuMRicUmkHSmUyiKqM8TlhMQJMpp5Rw5qy0A9JZOSzqyTRAzLjSVlPDcjU5lEdeZohRBgFSQ1AahrEpLJTUomsaz6hDwq+cwKicNyMEmi9hT+U4pTmyUVry5pltgguaKrI+Hc+CpJr0tWyk6Mi1OYE5H5hmvjqc0yhWvLRZmaSElc1TsuifFJKc6DxKpljFwjzmOwgLLimO1xshVrZXZasskTJJ07XIFTYbRM0rmfpFRwJK0wjEkskZat+aKUBfiuq7b3sOTSJ0gyO9M168BWB0gG3r1g6I/aKoJ3g6tmbHxMsjNzIqVpyaaWVRRWKXpM4umczCmlrroJqrPGJZGZkpJAwZeJch8anqTHpZA9vXqtWXJZSvkJScTXSHbHNZKIezwpNRkcfEcyI6dLtnBcRKrEoepi3E+dOyqp7LSUZE5msmMST2Zl5qAjY/EVFavEOP7pVEZGNEGVpiSTqHTsumWgzXpHimZ7dJ2KpYZ2KcJLTEh+dlLSSU1W81LMbZCELqdW3bLM5cZV/bplIdnqAMmgJoxw7dgqgnfrq5ZBrZNVFRaxAdUZRiTlHBRpIgPdSVt0HilJPpOQkUxeTMu7UodKx47FRr19aN3xZg9IbjypnrJZxxEnV5CmiAPOjY9Lbq5qWsAUj/9Xbrzxv9IQ36je84l9u2U8MSKJ9BZxnJ2SU1YEjCDtJrRoj65TcUEUAagy/5RCdpUiznlcr6wNY2FWs15V8OvleEvD9qitDpAMbBEekvNtFcG7WX7JQAf4WnSedmSgYgmjsigZVAOI5WJedjo7JJtONlsaHZJBvQODNOalmN8tjrNF0taWwYJIeabiKky+KtnkKmW5qE7eZAk0I04yaMakJ0fQOfSnJwUE7KbdJIOYNteb3IRWlsFiZNDKTZiXWWetxBMZyeUy7d2EmRclXTP1q9e5O5x6YmsLw3ATZrKS1K6PdjHGnpBPJ8clDrMeMRFFShWXSD3ZVQCxBbkZlgHIZNb5nyRTq+qugLJImt2SRneAbkLfupAmgu50kr5V23dB3Wln1TJoGUC0IAMdP4h5BBCrrSzPwpdHwA0BuA4CiPC9NcnXOrcBmbIMvAKIc1JwxmvX1gOIsxXXo3rPeGqrzIAYVGeOSawWQMQQajUegvboAKIe7lTnx41gYGPAMlYLZBp1FRBkxa0w46XmGbb7tjpAN8EW4SE531YRvJtVIQNv3977io6PmkOLHV9keSLIwD0kaHmLvp0OAuHQYn/gRufQn/6UONhSAk8GIgJLYM0a19BhN2EbGjKAVcCko26Kvu29NBF0p5O0LSoQf0alnYEAO6CVsNUBugkBFeRSq2WrCEstj9cHDwFbHSAZBE+GXamRrSJ0pVDeJFAI2OoAySBQ4uteZWwVoXsl805BQcBWB0gGQZFcl+thqwhdLp63CwACtjpAMgiA0HpRBVtF6EUdeM/BImCrAySDwcqrZ6XbKkLPKsIbDwwBWx0gGQxMVL0t2FYRelsb3n0QCNjqAMlgEFLqQ5m2itCHKrGIPiNgqwMkgz4LqF/F2SpCv+rFcvqHgK0OkAz6J5u+lmSrCH2tHAvrCwK2OkAy6ItY+l+IrSL0v4a9LfHYsWOCT5Q3Wx0gGYRUW6AI/BADG/UmGdigxXOHAoFCoVAjwqGocEAqSTIIiCBYje4hQDLwhyXJwB9uvCrACJAM/AmHZOAPN14VYARIBv6EQzLwhxuvCjACJAN/wiEZ+MONVwUYAZKBP+GQDPzhxqsCjADJwJ9wSAb+cONVAUaAZOBPOCQDf7jxqgAjQDLwJxySgT/ceFWAESAZ+BMOycAfbrwqwAiQDPwJh2TgDzdeFWAESAb+hEMyaIMbZr3t3btXVq9eLY7jtDmTfwUJAZKBP2mQDDxw279/v2zatKk22QWz/0gGHkAF9BDJwJ9gSAZV3I4cOSLbtm2TlStXNpCAngZMMvCnYIO4imTgD/VIk4HpBuhO3+qbZOBPwQZxFcnAH+qRJAMvN6AVCejjsBjWr1/PzxBggBiPlpu/bhHNqyJJBlpR+B3ulYCWL18ezV7ts9WRJIM9e/a0jA20IghaBsNnFR06dMhnt4jmZZEkAy1qKAtGDfAEaUUC+jhjBho1focVgUiTgSlU5BNs3LixJSmQDEy0uB9GBEgGLqliiNHLjSAZuIDiz9AhQDJoI1LTjSAZtAGKf4UCAZJBh2KExcCNCIQZAZJBmKXLthEBCwRIBhZg8VQiEGYESAZhli7bRgQsECAZWIDFU4lAmBEgGYRZumwbEbBAgGRgARZPJQJhRoBkEGbpsm1EwAIBkoEFWDyVCIQZAZJBmKXLthEBCwRIBhZg8VQiEGYEQkkGmGikpx4v9o2ZityIABEQCSUZYB7BYiSg/8fUZW5EgAiElAwg2HZrE2giwKImWBSVGxEgAiEmAzzxdadv9Y1VjrgRASJQQSCUboIW7mLLmWFJbW5EgAhUEAg1GbjfimRaCFjglBsRIAJ1BEJNBlipyCQAc58rF9WVgHtEAAiEmgzQwFavS+PKRewARKARgdCTgVfOAd6MxI0IEIFGBEJPBl45B8wtaFQC/iICQCD0ZIBGmjkHzC2g4hMBbwQiQQZmzgFzC7wVgUeJQCTIAGLWOQfMLaDSEwFvBCJDBrAImFvgrQQ8SgSAQGTIADkHzC2g0hOB1ghEhgxaQ8B/iAARAAIkA+oBESACCgGSARWBCBABkgF1gAgQgToCtAzqWHCPCEQaAZJBpMXPxhOBOgIkgzoW3CMCkUaAZBBp8bPxRKCOAMmgjgX3iECkESAZRFr8bDwRqCNAMqhjwT0iEGkESAaRFj8bTwTqCJAM6lhwjwhEGgGSQaTFz8YTgToCJIM6FtwjApFGgGQQafGz8USgjsD/AcgGwQrtqQmKAAAAAElFTkSuQmCC)"
      ]
    },
    {
      "cell_type": "markdown",
      "metadata": {
        "id": "45qsd9bm_l2R"
      },
      "source": [
        "The above chart is how you represent a pseudo code as a flowchart. \n",
        "For example, diamond represents where a decision has to be made, and a rectange represents where some assignment is done. "
      ]
    },
    {
      "cell_type": "markdown",
      "metadata": {
        "id": "R9O3dHgS_42f"
      },
      "source": []
    },
    {
      "cell_type": "code",
      "metadata": {
        "id": "dxCjlw75U7zO",
        "colab": {
          "base_uri": "https://localhost:8080/"
        },
        "outputId": "753518a1-4d3d-41bf-c16e-4e23ffb840f0"
      },
      "source": [
        "x = 10\n",
        "if x > 0:                   ##tests a conditions and ends with \":\"\n",
        "  print('x is positive')    #indented block    "
      ],
      "execution_count": null,
      "outputs": [
        {
          "output_type": "stream",
          "text": [
            "x is positive\n"
          ],
          "name": "stdout"
        }
      ]
    },
    {
      "cell_type": "markdown",
      "metadata": {
        "id": "cez364E8RXMv"
      },
      "source": [
        "#### Else"
      ]
    },
    {
      "cell_type": "markdown",
      "metadata": {
        "id": "xROsw4mvRY4M"
      },
      "source": [
        "![Screenshot from 2020-10-17 21-25-38.png](data:image/png;base64,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)"
      ]
    },
    {
      "cell_type": "code",
      "metadata": {
        "id": "RO6SYefDXTWX"
      },
      "source": [
        "x=11                       # Assigning value \n",
        "\n",
        "if x%2==0:                #executes True\n",
        "  print('x is even')\n",
        "else:                     #executes False\n",
        "  print('x is odd')"
      ],
      "execution_count": null,
      "outputs": []
    },
    {
      "cell_type": "code",
      "metadata": {
        "id": "Kk6mm7B6lORV"
      },
      "source": [
        "a = int(input(\"Enter first number:\"))\n",
        "b = int(input(\"Enter second number:\"))\n",
        "if a<b:\n",
        "  print(a,\"is smaller than \",b)\n",
        "else:\n",
        "  print(a,\"is greater than \",b)"
      ],
      "execution_count": null,
      "outputs": []
    },
    {
      "cell_type": "markdown",
      "metadata": {
        "id": "1jgX4aBqYRJU"
      },
      "source": [
        "**Rerun above code when both numbers are equal.\n",
        "Is it correct? Which type of error is it?**"
      ]
    },
    {
      "cell_type": "markdown",
      "metadata": {
        "id": "CSchEvV_Y6Jk"
      },
      "source": [
        "### Chained conditionals"
      ]
    },
    {
      "cell_type": "code",
      "metadata": {
        "id": "p1sWScOZqrg2",
        "colab": {
          "base_uri": "https://localhost:8080/"
        },
        "outputId": "47c2287b-4889-456c-ef81-43e6d5ebdee2"
      },
      "source": [
        "### Comparing the two numbers\n",
        "a = int(input(\"Enter first number:\"))\n",
        "b = int(input(\"Enter second number:\"))\n",
        "if a<b:\n",
        "  print(a,\" is smaller than \",b)\n",
        "elif a>b:\n",
        "  print(a,\" is greater than \",b)\n",
        "else:\n",
        "  print(a,\" is equal to\",b)"
      ],
      "execution_count": null,
      "outputs": [
        {
          "output_type": "stream",
          "text": [
            "Enter first number:10\n",
            "Enter second number:12\n",
            "10  is smaller than  12\n"
          ],
          "name": "stdout"
        }
      ]
    },
    {
      "cell_type": "markdown",
      "metadata": {
        "id": "gA6CpQIduoiG"
      },
      "source": [
        "\n",
        "![image.png](data:image/png;base64,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)"
      ]
    },
    {
      "cell_type": "markdown",
      "metadata": {
        "id": "wtPvrk25Zhr9"
      },
      "source": [
        "**How many conditions can we add? Does it need to end with 'else'?**"
      ]
    },
    {
      "cell_type": "code",
      "metadata": {
        "id": "ExFTDx8rcDU5",
        "colab": {
          "base_uri": "https://localhost:8080/"
        },
        "outputId": "76a3dde0-bd2e-4578-f8ab-36979121e95e"
      },
      "source": [
        "age = int(input(\"Enter your age \"))\n",
        "\n",
        "if age < 20:\n",
        "  print('You are a Young to get married')\n",
        "elif age > 40:\n",
        "  print('Hey you are little more aged to get married')\n",
        "elif age == 25:\n",
        "  print('You are being directed to our matrimony site! :P')"
      ],
      "execution_count": null,
      "outputs": [
        {
          "output_type": "stream",
          "text": [
            "Enter your age 27\n"
          ],
          "name": "stdout"
        }
      ]
    },
    {
      "cell_type": "markdown",
      "metadata": {
        "id": "0Th6-rDfvOD4"
      },
      "source": [
        "### Nested conditionals"
      ]
    },
    {
      "cell_type": "markdown",
      "metadata": {
        "id": "SkXwwP7atlU1"
      },
      "source": [
        "![Screenshot from 2020-10-17 23-28-10.png](data:image/png;base64,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)"
      ]
    },
    {
      "cell_type": "code",
      "metadata": {
        "id": "ayA1K0hEttTd",
        "colab": {
          "base_uri": "https://localhost:8080/"
        },
        "outputId": "6bde7629-9cb0-4254-ec77-c6f7846ae883"
      },
      "source": [
        "a = int(input(\"Enter first number:\"))\n",
        "b = int(input(\"Enter second number:\"))\n",
        "if a == b:\n",
        "  print(a,\"is equal to \",b)\n",
        "else:\n",
        "  if a<b:\n",
        "    print(a,\"is smaller than \",b)\n",
        "  else:\n",
        "    print(a,\"is greater than \",b)"
      ],
      "execution_count": null,
      "outputs": [
        {
          "output_type": "stream",
          "text": [
            "Enter first number:3\n",
            "Enter second number:12\n",
            "3 is smaller than  12\n"
          ],
          "name": "stdout"
        }
      ]
    },
    {
      "cell_type": "code",
      "metadata": {
        "id": "wZVe30Hzv2Uu",
        "colab": {
          "base_uri": "https://localhost:8080/"
        },
        "outputId": "d94419fc-faeb-41c9-d17d-fd39c88cac42"
      },
      "source": [
        "a = int(input(\"Enter first number:\"))\n",
        "b = int(input(\"Enter second number:\"))\n",
        "\n",
        "#single line\n",
        "print (a,\" is greater than \", b) if a>b else print(a,\"is smaller or equal to \",b)\n",
        "\n",
        "#logicals in if/else\n",
        "#print (a,\" is greater or equal to \", b) if a>b or a==b else print(a,\"is smaller to \",b)"
      ],
      "execution_count": null,
      "outputs": [
        {
          "output_type": "stream",
          "text": [
            "Enter first number:10\n",
            "Enter second number:24\n",
            "10 is smaller or equal to  24\n"
          ],
          "name": "stdout"
        }
      ]
    },
    {
      "cell_type": "code",
      "metadata": {
        "id": "5U0k83dWmcef",
        "colab": {
          "base_uri": "https://localhost:8080/",
          "height": 53
        },
        "outputId": "2e102b8e-5438-41e2-f876-5c24c1d89543"
      },
      "source": [],
      "execution_count": null,
      "outputs": [
        {
          "output_type": "stream",
          "text": [
            "12\n"
          ],
          "name": "stdout"
        },
        {
          "output_type": "execute_result",
          "data": {
            "application/vnd.google.colaboratory.intrinsic+json": {
              "type": "string"
            },
            "text/plain": [
              "'12'"
            ]
          },
          "metadata": {
            "tags": []
          },
          "execution_count": 15
        }
      ]
    },
    {
      "cell_type": "markdown",
      "metadata": {
        "id": "-4fj6KUwQzGU"
      },
      "source": []
    },
    {
      "cell_type": "markdown",
      "metadata": {
        "id": "myLOchFVSKwI"
      },
      "source": []
    },
    {
      "cell_type": "code",
      "metadata": {
        "id": "CC29siKYRG6I"
      },
      "source": [],
      "execution_count": null,
      "outputs": []
    },
    {
      "cell_type": "code",
      "metadata": {
        "id": "lOLufpaoSb5B"
      },
      "source": [],
      "execution_count": null,
      "outputs": []
    },
    {
      "cell_type": "markdown",
      "metadata": {
        "id": "FHyFN5uTzUqp"
      },
      "source": [
        "**Why there was error in second code block and not first?**"
      ]
    },
    {
      "cell_type": "code",
      "metadata": {
        "id": "eKXEE7pTSsuI",
        "colab": {
          "base_uri": "https://localhost:8080/"
        },
        "outputId": "2f719d53-8cba-4121-e0fb-2a3b358a3287"
      },
      "source": [
        "x=6\n",
        "y=0\n",
        "x>2 and y!=0 and (x/y)>=2          #guard conditional"
      ],
      "execution_count": null,
      "outputs": [
        {
          "output_type": "execute_result",
          "data": {
            "text/plain": [
              "False"
            ]
          },
          "metadata": {
            "tags": []
          },
          "execution_count": 17
        }
      ]
    },
    {
      "cell_type": "code",
      "metadata": {
        "id": "Y6i9qJ83S2oV",
        "colab": {
          "base_uri": "https://localhost:8080/",
          "height": 201
        },
        "outputId": "ab31fd31-1851-435a-f29b-3fbf9acfe584"
      },
      "source": [
        "x=6\n",
        "y=0\n",
        "x >= 2 and (x/y) > 2 and y != 0     #order of conditionals matters"
      ],
      "execution_count": null,
      "outputs": [
        {
          "output_type": "error",
          "ename": "ZeroDivisionError",
          "evalue": "ignored",
          "traceback": [
            "\u001b[0;31m---------------------------------------------------------------------------\u001b[0m",
            "\u001b[0;31mZeroDivisionError\u001b[0m                         Traceback (most recent call last)",
            "\u001b[0;32m<ipython-input-18-b088abf509ea>\u001b[0m in \u001b[0;36m<module>\u001b[0;34m()\u001b[0m\n\u001b[1;32m      1\u001b[0m \u001b[0mx\u001b[0m\u001b[0;34m=\u001b[0m\u001b[0;36m6\u001b[0m\u001b[0;34m\u001b[0m\u001b[0;34m\u001b[0m\u001b[0m\n\u001b[1;32m      2\u001b[0m \u001b[0my\u001b[0m\u001b[0;34m=\u001b[0m\u001b[0;36m0\u001b[0m\u001b[0;34m\u001b[0m\u001b[0;34m\u001b[0m\u001b[0m\n\u001b[0;32m----> 3\u001b[0;31m \u001b[0mx\u001b[0m \u001b[0;34m>=\u001b[0m \u001b[0;36m2\u001b[0m \u001b[0;32mand\u001b[0m \u001b[0;34m(\u001b[0m\u001b[0mx\u001b[0m\u001b[0;34m/\u001b[0m\u001b[0my\u001b[0m\u001b[0;34m)\u001b[0m \u001b[0;34m>\u001b[0m \u001b[0;36m2\u001b[0m \u001b[0;32mand\u001b[0m \u001b[0my\u001b[0m \u001b[0;34m!=\u001b[0m \u001b[0;36m0\u001b[0m     \u001b[0;31m#order of conditionals matters\u001b[0m\u001b[0;34m\u001b[0m\u001b[0;34m\u001b[0m\u001b[0m\n\u001b[0m",
            "\u001b[0;31mZeroDivisionError\u001b[0m: division by zero"
          ]
        }
      ]
    },
    {
      "cell_type": "markdown",
      "metadata": {
        "id": "eiaakHSszqdx"
      },
      "source": [
        "# Session III"
      ]
    },
    {
      "cell_type": "markdown",
      "metadata": {
        "id": "fYBYEH9bP_fa"
      },
      "source": [
        "##Data Types"
      ]
    },
    {
      "cell_type": "markdown",
      "metadata": {
        "id": "0msnKlmzQELJ"
      },
      "source": [
        "1. Numbers .... decimals, integers\n",
        "2. String  .... characters\n",
        "3. List    .... collection of items\n",
        "4. Tuple\n",
        "5. Dictionary\n"
      ]
    },
    {
      "cell_type": "markdown",
      "metadata": {
        "id": "gOa_CrByBhRn"
      },
      "source": [
        "## Strings\n",
        "\n",
        "1.   List item\n",
        "2.   List item\n",
        "\n"
      ]
    },
    {
      "cell_type": "markdown",
      "metadata": {
        "id": "4n0t3KAt7ZkS"
      },
      "source": [
        "### Introduction"
      ]
    },
    {
      "cell_type": "code",
      "metadata": {
        "id": "rzTiIuEs7bmd"
      },
      "source": [
        "x = \"ATGCGTGA\"                   # characters are written inside quotes\n",
        "type(x)"
      ],
      "execution_count": null,
      "outputs": []
    },
    {
      "cell_type": "code",
      "metadata": {
        "id": "4CKpjRmj7v3M"
      },
      "source": [
        "seq = \"GCTGAGACTTCCTGGACGGGGGACAGGCTGTGGGGTTTCTCAGATAACTGGGCCCCTGCGCTCAGGAGGC\n",
        "CTTCACCCTCTGCTCTGGGTAAAGGTAGTAGAGTCCCGGGAAAGGGACAGGGGGCCCAAGTGATGCTCTG\n",
        "GGGTACTGGCGTGGGAGAGTGGATTTCCGAAGCTGACAGATGGGTATTCTTTGACGGGGGGTAGGGGCGG\n",
        "AACCTGAGAGGCGTAAGGCGTTGTGAACCCTGGGGAGGGGGGCAGTTTGTAGGTCGCGAGGGAAGCGCTG\n",
        "AGGATCAGGAAGGGGGCACTGAGTGTCCGTGGGGGAATCCTCGTGATAGGAACTGGAATATGCCTTGAGG\n",
        "GGGACACTATGTCTTTAAAAACGTCGGCTGGTCATGAGGTCAGGAGTTCCAGACCAGCCTGACCAACGTG\n",
        "GTGAAACTCCGTCTCTACTAAAAATACAAAAATTAGCCGGGCGTGGTGCCGCTCCAGCTACTCAGGAGGC\"\n",
        "\n",
        "type(seq)"
      ],
      "execution_count": null,
      "outputs": []
    },
    {
      "cell_type": "code",
      "metadata": {
        "id": "S1i_FllG8GEW"
      },
      "source": [
        " ##Mutiline sequence \n",
        "seq = \"\"\"GCTGAGACTTCCTGGACGGGGGACAGGCTGTGGGGTTTCTCAGATAACTGGGCCCCTGCGCTCAGGAGGC         ## Use triple quotes for multi line strings\n",
        "CTTCACCCTCTGCTCTGGGTAAAGGTAGTAGAGTCCCGGGAAAGGGACAGGGGGCCCAAGTGATGCTCTG                    \n",
        "GGGTACTGGCGTGGGAGAGTGGATTTCCGAAGCTGACAGATGGGTATTCTTTGACGGGGGGTAGGGGCGG\n",
        "AACCTGAGAGGCGTAAGGCGTTGTGAACCCTGGGGAGGGGGGCAGTTTGTAGGTCGCGAGGGAAGCGCTG\n",
        "AGGATCAGGAAGGGGGCACTGAGTGTCCGTGGGGGAATCCTCGTGATAGGAACTGGAATATGCCTTGAGG\n",
        "GGGACACTATGTCTTTAAAAACGTCGGCTGGTCATGAGGTCAGGAGTTCCAGACCAGCCTGACCAACGTG\n",
        "GTGAAACTCCGTCTCTACTAAAAATACAAAAATTAGCCGGGCGTGGTGCCGCTCCAGCTACTCAGGAGGC\"\"\"\n",
        "\n",
        "type(seq)"
      ],
      "execution_count": null,
      "outputs": []
    },
    {
      "cell_type": "code",
      "metadata": {
        "id": "7Cn6MvTT8M-t"
      },
      "source": [
        "x = \"alok\""
      ],
      "execution_count": null,
      "outputs": []
    },
    {
      "cell_type": "code",
      "metadata": {
        "id": "0VDBF4m7s6H3"
      },
      "source": [
        "print(len(x))"
      ],
      "execution_count": null,
      "outputs": []
    },
    {
      "cell_type": "code",
      "metadata": {
        "id": "uDEVE0PAs7aW"
      },
      "source": [
        "print(\"hello\" + x)"
      ],
      "execution_count": null,
      "outputs": []
    },
    {
      "cell_type": "code",
      "metadata": {
        "id": "a26pExjquFyk"
      },
      "source": [
        "print(\"number\" + 28)  #convert int to str"
      ],
      "execution_count": null,
      "outputs": []
    },
    {
      "cell_type": "code",
      "metadata": {
        "id": "xoaA1kbluL57"
      },
      "source": [
        "print(\"number\" + str(28)) "
      ],
      "execution_count": null,
      "outputs": []
    },
    {
      "cell_type": "markdown",
      "metadata": {
        "id": "456B6nNoumEG"
      },
      "source": [
        "### Indexing \n",
        "\n",
        "Python used Zero-based indexing"
      ]
    },
    {
      "cell_type": "markdown",
      "metadata": {
        "id": "Iy5Wvig8ui-G"
      },
      "source": [
        "![Screenshot from 2020-11-08 12-50-13.png](data:image/png;base64,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)"
      ]
    },
    {
      "cell_type": "code",
      "metadata": {
        "id": "N-BnaiQDu8MZ"
      },
      "source": [
        "x = \"Hello\""
      ],
      "execution_count": null,
      "outputs": []
    },
    {
      "cell_type": "code",
      "metadata": {
        "id": "9mnfiewxs7Q5"
      },
      "source": [
        "# Indexing starts from 0 to n-1\n",
        "\n",
        "x[0]   #try x[1],x[2],x[3]"
      ],
      "execution_count": null,
      "outputs": []
    },
    {
      "cell_type": "code",
      "metadata": {
        "id": "uZO9XI_BuEtA"
      },
      "source": [
        "x = 'Hello'\n",
        "x[1:4]  "
      ],
      "execution_count": null,
      "outputs": []
    },
    {
      "cell_type": "code",
      "metadata": {
        "id": "_AVw655ZvNDQ"
      },
      "source": [
        "x[1:]"
      ],
      "execution_count": null,
      "outputs": []
    },
    {
      "cell_type": "code",
      "metadata": {
        "id": "h74WScIWvNRZ"
      },
      "source": [
        "x[:] "
      ],
      "execution_count": null,
      "outputs": []
    },
    {
      "cell_type": "code",
      "metadata": {
        "id": "ZoOOOt-nvM6P"
      },
      "source": [
        "x[1:100] "
      ],
      "execution_count": null,
      "outputs": []
    },
    {
      "cell_type": "markdown",
      "metadata": {
        "id": "-IsWYlABSqyk"
      },
      "source": [
        "####Slicing"
      ]
    },
    {
      "cell_type": "code",
      "metadata": {
        "id": "4qVyYLOT8vQC"
      },
      "source": [
        "# Slicing\n",
        "x[0:5:2]    #[start:end:step]"
      ],
      "execution_count": null,
      "outputs": []
    },
    {
      "cell_type": "code",
      "metadata": {
        "id": "qIZh7Tf3vXq_"
      },
      "source": [
        "x[0:4:2]"
      ],
      "execution_count": null,
      "outputs": []
    },
    {
      "cell_type": "markdown",
      "metadata": {
        "id": "yP9Z-MvOSwGO"
      },
      "source": [
        "#### Reverse indexing"
      ]
    },
    {
      "cell_type": "code",
      "metadata": {
        "id": "NA70teFKva_r"
      },
      "source": [
        "x[-4]"
      ],
      "execution_count": null,
      "outputs": []
    },
    {
      "cell_type": "code",
      "metadata": {
        "id": "6SwQMBXlvbYm"
      },
      "source": [
        "x[:-3]"
      ],
      "execution_count": null,
      "outputs": []
    },
    {
      "cell_type": "code",
      "metadata": {
        "id": "ZmLjYEUTvbHU"
      },
      "source": [
        "x[-3:]"
      ],
      "execution_count": null,
      "outputs": []
    },
    {
      "cell_type": "code",
      "metadata": {
        "id": "jDut9XgL9NoR"
      },
      "source": [
        "x[::-1]         #reverse"
      ],
      "execution_count": null,
      "outputs": []
    },
    {
      "cell_type": "code",
      "metadata": {
        "id": "Gqd0GolS9TCZ"
      },
      "source": [
        "x[3:-1]                           "
      ],
      "execution_count": null,
      "outputs": []
    },
    {
      "cell_type": "code",
      "metadata": {
        "id": "YOxl-MaIvbEM"
      },
      "source": [
        "x[:1] + x[1:] == x"
      ],
      "execution_count": null,
      "outputs": []
    },
    {
      "cell_type": "code",
      "metadata": {
        "id": "LHZUZU3aDvS3"
      },
      "source": [
        "#strings are immutable\n",
        "\n",
        "greeting = 'Hello, world!'\n",
        "greeting[0] = 'J'                                         # Replace 0 element of variable with assigned"
      ],
      "execution_count": null,
      "outputs": []
    },
    {
      "cell_type": "code",
      "metadata": {
        "id": "yMddMQR0EeP3"
      },
      "source": [
        "greeting = 'Hello, world!'\n",
        "new_greeting = 'J' + greeting[1:]\n",
        "print(new_greeting)\n"
      ],
      "execution_count": null,
      "outputs": []
    },
    {
      "cell_type": "markdown",
      "metadata": {
        "id": "Bdzop8FdT7mi"
      },
      "source": [
        "### dir() function\n",
        "for getting all properties and methods of a object"
      ]
    },
    {
      "cell_type": "code",
      "metadata": {
        "id": "xd-FDO0mUGtN"
      },
      "source": [
        "x = \"hello\" #defining string object \"x\"\n",
        "dir(x)"
      ],
      "execution_count": null,
      "outputs": []
    },
    {
      "cell_type": "markdown",
      "metadata": {
        "id": "waUZEUkDVNoC"
      },
      "source": [
        "**For string:**\n",
        "```['__add__', '__class__', '__contains__', '__delattr__', '__dir__', '__doc__', '__eq__', '__format__', '__ge__', '__getattribute__', '__getitem__', '__getnewargs__', '__gt__', '__hash__', '__init__', '__init_subclass__', '__iter__', '__le__', '__len__', '__lt__', '__mod__', '__mul__', '__ne__', '__new__', '__reduce__', '__reduce_ex__', '__repr__', '__rmod__', '__rmul__', '__setattr__', '__sizeof__', '__str__', '__subclasshook__', 'capitalize', 'casefold', 'center', 'count', 'encode', 'endswith', 'expandtabs', 'find', 'format', 'format_map', 'index', 'isalnum', 'isalpha', 'isdecimal', 'isdigit', 'isidentifier', 'islower', 'isnumeric', 'isprintable', 'isspace', 'istitle', 'isupper', 'join', 'ljust', 'lower', 'lstrip', 'maketrans', 'partition', 'replace', 'rfind', 'rindex', 'rjust', 'rpartition', 'rsplit', 'rstrip', 'split', 'splitlines', 'startswith', 'strip', 'swapcase', 'title', 'translate', 'upper', 'zfill']```"
      ]
    },
    {
      "cell_type": "markdown",
      "metadata": {
        "id": "8bSS5DNqVlaS"
      },
      "source": [
        "Try the above methods using example strings.\n",
        "\n",
        "1.   Find the differences between capitalize, casefold, lower, upper and swapcase?\n",
        "2.   Why do same methods start with r... for examples...rpartition and partitions, rsplit and split, rstrip and strip, and so on.\n",
        "3.   What type of methods start with is? for example.. isdecimal, islower, etc.?\n",
        "\n",
        "\n",
        "\n"
      ]
    },
    {
      "cell_type": "markdown",
      "metadata": {
        "id": "0ZI5FyL1X1TL"
      },
      "source": [
        "#### Example problems"
      ]
    },
    {
      "cell_type": "code",
      "metadata": {
        "id": "yjAnX-S7-NMI"
      },
      "source": [
        "### Write a user defined function wher you ask the name and surname of individual and print the complete name of individual with space b/w them\n",
        "\n",
        "def name():                                                     # Function with no arguements\n",
        "  n = input(\"Enter name:\")\n",
        "  s = input(\"Enter surname:\")\n",
        "  n = n.capitalize()                                            # Capitalize the first letter\n",
        "  s = s.capitalize()\n",
        "  print(\"Your name is\\n\")\n",
        "  return print(n+\" \"+s)"
      ],
      "execution_count": null,
      "outputs": []
    },
    {
      "cell_type": "code",
      "metadata": {
        "id": "BIfdqZLUrlHI"
      },
      "source": [
        "name()"
      ],
      "execution_count": null,
      "outputs": []
    },
    {
      "cell_type": "code",
      "metadata": {
        "id": "Vxhf7nMDGPP5"
      },
      "source": [
        "# Find index of a letter in a word\n",
        "seq = \"TGCGTGAGTCG\"\n",
        "seq.find(\"A\")                                  # Rturns the index of only first position of that character"
      ],
      "execution_count": null,
      "outputs": []
    },
    {
      "cell_type": "code",
      "metadata": {
        "id": "AoNjcyh2vPdp"
      },
      "source": [
        "#Strip function remove whitespaces\n",
        "line = ' Here we go '\n",
        "line.strip()"
      ],
      "execution_count": null,
      "outputs": []
    },
    {
      "cell_type": "code",
      "metadata": {
        "id": "9_ztCE6qvPSq"
      },
      "source": [
        "#Check either a word or a statement starts with a  desired character or word\n",
        "line = 'Have a nice day'\n",
        "line.startswith('Have')"
      ],
      "execution_count": null,
      "outputs": []
    },
    {
      "cell_type": "markdown",
      "metadata": {
        "id": "DHZbM-lVLarV"
      },
      "source": [
        "### Format operator"
      ]
    },
    {
      "cell_type": "code",
      "metadata": {
        "id": "RUfke2sOLcCG"
      },
      "source": [
        "camels = 42\n",
        "'%d' % camels                                 #d for decials"
      ],
      "execution_count": null,
      "outputs": []
    },
    {
      "cell_type": "code",
      "metadata": {
        "id": "DbBlLiOsLjEj"
      },
      "source": [
        "camels = 42\n",
        "'I have spotted %d camels.' % camels"
      ],
      "execution_count": null,
      "outputs": []
    },
    {
      "cell_type": "code",
      "metadata": {
        "id": "0k131K_rL5CK"
      },
      "source": [
        "'In %d years I have spotted %g %s.' % (3, 0.1, 'camels')"
      ],
      "execution_count": null,
      "outputs": []
    },
    {
      "cell_type": "code",
      "metadata": {
        "id": "Yz05EkZ4MOft"
      },
      "source": [
        " \"%d %s %d you\" % (1, 'spam', 4)"
      ],
      "execution_count": null,
      "outputs": []
    },
    {
      "cell_type": "code",
      "metadata": {
        "id": "FlIRCe9dOVnc"
      },
      "source": [
        " \"%s -- %s -- %s\" % (42, 3.14159, [1, 2, 3])"
      ],
      "execution_count": null,
      "outputs": []
    },
    {
      "cell_type": "code",
      "metadata": {
        "id": "VnewIKm7Oapi"
      },
      "source": [
        " \"%d -- %g -- %s\" % (42, 3.14159, [1, 2, 3])"
      ],
      "execution_count": null,
      "outputs": []
    },
    {
      "cell_type": "code",
      "metadata": {
        "id": "e_bf7hIed8UN"
      },
      "source": [],
      "execution_count": null,
      "outputs": []
    },
    {
      "cell_type": "markdown",
      "metadata": {
        "id": "PoJnabs9qDvF"
      },
      "source": [
        "## List\n",
        "\n",
        "A list is a sequence of values\n"
      ]
    },
    {
      "cell_type": "code",
      "metadata": {
        "id": "HQQCwTXMqH77"
      },
      "source": [
        "l1 = [10, 20, 30, 40]  # List of all integers\n",
        "l2 = ['crunchy frog', 'ram bladder', 'lark vomit']    # \n",
        "l3 = [10,10.0,'crunchy frog']                         # Mixed\n",
        "l4 = [10,10.0,[1,2,3],'crunchy']                      # Nested List\n",
        "l5 = []                                               # Empty list"
      ],
      "execution_count": null,
      "outputs": []
    },
    {
      "cell_type": "markdown",
      "metadata": {
        "id": "ai59is9drL14"
      },
      "source": [
        "### Indexing of lists"
      ]
    },
    {
      "cell_type": "code",
      "metadata": {
        "id": "nTmwvk1ZrJXz"
      },
      "source": [
        "# Indexing is done the same way for strings \n",
        "l1_1 = l1[1]\n",
        "l1_1"
      ],
      "execution_count": null,
      "outputs": []
    },
    {
      "cell_type": "code",
      "metadata": {
        "id": "Rb0Zc2nmrUGl"
      },
      "source": [
        "l1_1_3 = l1[1:4]                  #Slicing\n",
        "l1_1_3"
      ],
      "execution_count": null,
      "outputs": []
    },
    {
      "cell_type": "code",
      "metadata": {
        "id": "eyBfBewurdL6"
      },
      "source": [
        "# Replacing element of list\n",
        "x = l1[:]\n",
        "print(\"Before replacement\")\n",
        "print(\"%d is first element \"%x[1])\n",
        "x[1] = 34\n",
        "print(\"After replacement\")\n",
        "print(\"%d is first element\"%x[1])\n"
      ],
      "execution_count": null,
      "outputs": []
    },
    {
      "cell_type": "markdown",
      "metadata": {
        "id": "J88wh5RJwjgU"
      },
      "source": [
        "### List operations"
      ]
    },
    {
      "cell_type": "code",
      "metadata": {
        "id": "w1kR2hiGwZEZ"
      },
      "source": [
        "l1 = [10,20,30,40]\n",
        "l2 = [50,60,70,80]\n",
        "new_l = l1+l2                   # Addition of list\n",
        "print(new_l)"
      ],
      "execution_count": null,
      "outputs": []
    },
    {
      "cell_type": "code",
      "metadata": {
        "id": "latYsGFTwkzy"
      },
      "source": [
        "new_l = l1-l2                      # Subtraction of list\n",
        "print(new_l)                       # Will throw error as subtraction doesn't mean anything"
      ],
      "execution_count": null,
      "outputs": []
    },
    {
      "cell_type": "code",
      "metadata": {
        "id": "_sH9JLT_w7cZ"
      },
      "source": [
        "new_l = l1*5                       # Multiplication of list \n",
        "print(\"Number of elements in l1 is %d\"%len(l1))\n",
        "print(\"Number of elements in new_list is %d\"%len(new_l))\n",
        "print(new_l)            \n",
        "           # Will repeat the elements of list number of times as mentioned  "
      ],
      "execution_count": null,
      "outputs": []
    },
    {
      "cell_type": "markdown",
      "metadata": {
        "id": "B2VszUkJxzMQ"
      },
      "source": [
        "### dir() function for lists"
      ]
    },
    {
      "cell_type": "code",
      "metadata": {
        "id": "bz5qXRctZY7c"
      },
      "source": [
        "l = []"
      ],
      "execution_count": null,
      "outputs": []
    },
    {
      "cell_type": "code",
      "metadata": {
        "id": "5Po1876WZcT1"
      },
      "source": [
        "dir(l)"
      ],
      "execution_count": null,
      "outputs": []
    },
    {
      "cell_type": "markdown",
      "metadata": {
        "id": "r_dZIbtWZkN0"
      },
      "source": [
        "**For lists**\n",
        "```['__add__', '__class__', '__contains__', '__delattr__', '__delitem__', '__dir__', '__doc__', '__eq__', '__format__', '__ge__', '__getattribute__', '__getitem__', '__gt__', '__hash__', '__iadd__', '__imul__', '__init__', '__init_subclass__', '__iter__', '__le__', '__len__', '__lt__', '__mul__', '__ne__', '__new__', '__reduce__', '__reduce_ex__', '__repr__', '__reversed__', '__rmul__', '__setattr__', '__setitem__', '__sizeof__', '__str__', '__subclasshook__', 'append', 'clear', 'copy', 'count', 'extend', 'index', 'insert', 'pop', 'remove', 'reverse', 'sort']```"
      ]
    },
    {
      "cell_type": "markdown",
      "metadata": {
        "id": "zKQEMlNDZsVE"
      },
      "source": [
        "Try the above methods on example lists\n",
        "\n",
        "\n",
        "\n",
        "1.   Why ```copy``` method is exclusively defined? \n",
        "2.   Difference between ```append```, ```extend``` and ```insert```?\n",
        "3.   Difference between ```pop``` and ```remove```?"
      ]
    },
    {
      "cell_type": "markdown",
      "metadata": {
        "id": "J3yPU3G5aiKo"
      },
      "source": [
        "Some examples using the above methods"
      ]
    },
    {
      "cell_type": "code",
      "metadata": {
        "id": "CQGHDu3Jx2Wc"
      },
      "source": [
        "##Adding an element at the end of a list\n",
        "x = [\"Alok\",\"Shruti\",\"Mansi\",\"Tamanna\",\"Supreet\"]\n",
        "#Add Rakulpreet in the end\n",
        "to_add = \"Rakulpreet\"\n",
        "print(\"Before appending\",x)\n",
        "print(x)\n",
        "print(\"After appending\",x)\n",
        "x.append(to_add)\n",
        "print(x)\n"
      ],
      "execution_count": null,
      "outputs": []
    },
    {
      "cell_type": "code",
      "metadata": {
        "id": "oQUxoBXfyaVz"
      },
      "source": [
        "##Adding an element in the beginning\n",
        "x =[\"Alok\",\"Shruti\",\"Mansi\",\"Tamanna\",\"Supreet\"]\n",
        "# Add Rakulpreet in the beginning of the list\n",
        "name_to_add = \"Rakulpreet\"\n",
        "to_add = list(name_to_add)                          # Will treat each character of name as a different element\n",
        "#x = to_add + x                                       \n",
        "#x+to_add                                           ##Will give error as list can't be added to str\n",
        "#print(x)                                          ##Will give error as list can't be added to str\n",
        "x.insert(0,name_to_add)                                 #Insert function\n",
        "print(x)"
      ],
      "execution_count": null,
      "outputs": []
    },
    {
      "cell_type": "code",
      "metadata": {
        "id": "b4M9lpTZ013M"
      },
      "source": [
        "# Remove Function\n",
        "print(\"Before removing \\n\",x)\n",
        "rem_alok =x.remove(\"Alok\")\n",
        "print(\"After removing \\n\",x)"
      ],
      "execution_count": null,
      "outputs": []
    },
    {
      "cell_type": "code",
      "metadata": {
        "id": "iNUnSKfA1O7O"
      },
      "source": [
        "# Find index of an element\n",
        "x.index(\"Rakulpreet\")"
      ],
      "execution_count": null,
      "outputs": []
    },
    {
      "cell_type": "code",
      "metadata": {
        "id": "HB6trsrp2I59"
      },
      "source": [
        "# Deleting using pop function\n",
        "x = [10,20,30,40,50]\n",
        "print(\"List x is\\n\",x)\n",
        "x.pop(2)\n",
        "print(\"After deleting 2 element is \\n\",x)"
      ],
      "execution_count": null,
      "outputs": []
    },
    {
      "cell_type": "code",
      "metadata": {
        "id": "ZKv6FyIK5RVD"
      },
      "source": [
        "## Splitting elements(each word) of a string\n",
        "s = 'pining for the fjords'\n",
        "s.split()"
      ],
      "execution_count": null,
      "outputs": []
    },
    {
      "cell_type": "code",
      "metadata": {
        "id": "hhc81NVh5sZO"
      },
      "source": [
        "##Splitting by some special symbols\n",
        "s = 'spam-spam-spam'\n",
        "a = s.split('-')\n",
        "print(a)"
      ],
      "execution_count": null,
      "outputs": []
    },
    {
      "cell_type": "code",
      "metadata": {
        "id": "OQtaxKhW56ag"
      },
      "source": [
        "#Joining characters of a list using some symbols\n",
        "s = ['spam', 'spam', 'spam']\n",
        "a=\"-\".join(s)\n",
        "print(a)"
      ],
      "execution_count": null,
      "outputs": []
    },
    {
      "cell_type": "code",
      "metadata": {
        "id": "aNeGqSVs5pU-"
      },
      "source": [
        "#splitting each character of each word\n",
        "s = 'pining for the fjords'\n",
        "list(s)"
      ],
      "execution_count": null,
      "outputs": []
    },
    {
      "cell_type": "markdown",
      "metadata": {
        "id": "ScJZWidkbvpw"
      },
      "source": [
        "Some other examples to try"
      ]
    },
    {
      "cell_type": "code",
      "metadata": {
        "id": "dD7gcfFy5CpL"
      },
      "source": [
        "#Write  a program to calculate average of a list without using inbuilt functions \n",
        "average = sum(x)/len(x)\n",
        "print(average)"
      ],
      "execution_count": null,
      "outputs": []
    },
    {
      "cell_type": "code",
      "metadata": {
        "id": "7KgMrxz92NF7"
      },
      "source": [
        "## Deleting multiple elements\n",
        "x = [10,20,30,40,50]\n",
        "print(\"Before deleting \\n\",x)\n",
        "del x[1:4]\n",
        "print(\"After Deleting \\n\",x)"
      ],
      "execution_count": null,
      "outputs": []
    },
    {
      "cell_type": "code",
      "metadata": {
        "id": "3y5yh_xJy-f_"
      },
      "source": [
        "#sorting\n",
        "print(\"Before sorting\\n\",x)\n",
        "x = sorted(x)\n",
        "print(\"After sorting\",x)"
      ],
      "execution_count": null,
      "outputs": []
    },
    {
      "cell_type": "code",
      "metadata": {
        "id": "f3zT801W673X"
      },
      "source": [
        "## How  Python checks variables\n",
        "a = \"banana\"\n",
        "b=\"banana\"\n",
        "print(\"Are a and b equal\",a==b)\n",
        "print(\"Id of a is\",id(a))\n",
        "print(\"Id of b is\",id(b))\n",
        "print(\"Are IDs of a and b eual: \",id(a)==id(b))"
      ],
      "execution_count": null,
      "outputs": []
    },
    {
      "cell_type": "markdown",
      "metadata": {
        "id": "GSS4ZbLdj8X8"
      },
      "source": [
        "# Session-IV"
      ]
    },
    {
      "cell_type": "markdown",
      "metadata": {
        "id": "34yfrAGb0Lze"
      },
      "source": [
        "## While : Indefinite till False"
      ]
    },
    {
      "cell_type": "markdown",
      "metadata": {
        "id": "BPQGb-fH_PZB"
      },
      "source": [
        "```\n",
        "Working Rule of While Loop\n",
        "1. Evaluate the condition, yielding True or False.\n",
        "2. If the condition is false, exit the while statement and continue execution at\n",
        "the next statement.\n",
        "3. If the condition is true, execute the body and then go back to step 1.\n",
        "```\n"
      ]
    },
    {
      "cell_type": "markdown",
      "metadata": {
        "id": "M5NNzQ_KyZLU"
      },
      "source": [
        "![image.png](data:image/png;base64,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)"
      ]
    },
    {
      "cell_type": "code",
      "metadata": {
        "id": "Hwh6HWitTG9b",
        "colab": {
          "base_uri": "https://localhost:8080/"
        },
        "outputId": "9e8ebf0a-1469-4a34-83ae-159e2872442d"
      },
      "source": [
        "n=10                                                     # Iteration variable\n",
        "while n>0:                                               # Condition\n",
        "  print(n)                                               # Code\n",
        "  n=n-1                                                  # Sequence to be followed"
      ],
      "execution_count": null,
      "outputs": [
        {
          "output_type": "stream",
          "text": [
            "10\n",
            "9\n",
            "8\n",
            "7\n",
            "6\n",
            "5\n",
            "4\n",
            "3\n",
            "2\n",
            "1\n"
          ],
          "name": "stdout"
        }
      ]
    },
    {
      "cell_type": "code",
      "metadata": {
        "id": "0eMz1-9E4w_b",
        "colab": {
          "base_uri": "https://localhost:8080/"
        },
        "outputId": "03a2b39e-ec50-4618-8561-c8280285b221"
      },
      "source": [
        "# Table of 2\n",
        "n=1                                                     # Iteration variable\n",
        "while n<=10:                                             # Condition\n",
        "  print(2*n)                                            # Code\n",
        "  n=n+1                                                 # Sequence to be followed"
      ],
      "execution_count": null,
      "outputs": [
        {
          "output_type": "stream",
          "text": [
            "2\n",
            "4\n",
            "6\n",
            "8\n",
            "10\n",
            "12\n",
            "14\n",
            "16\n",
            "18\n",
            "20\n"
          ],
          "name": "stdout"
        }
      ]
    },
    {
      "cell_type": "code",
      "metadata": {
        "id": "TRkPfbtR5OtJ"
      },
      "source": [
        "#Find first 10 outputs of series (5*n**2 + 2*(n+1)-10)\n",
        "n=0                                                    \n",
        "while n<10:                                             \n",
        "  print(5*n**2+2*(n+1)-10)                                 \n",
        "  n=n+1                                                 "
      ],
      "execution_count": null,
      "outputs": []
    },
    {
      "cell_type": "code",
      "metadata": {
        "id": "oq3eTdMC5xsR"
      },
      "source": [
        "#Find sum of first 20 numbers\n",
        "n=1\n",
        "s=0                                             \n",
        "while n<=20:                                       \n",
        "  s=s+n                                          \n",
        "  n=n+1\n",
        "print(s)                                            "
      ],
      "execution_count": null,
      "outputs": []
    },
    {
      "cell_type": "code",
      "metadata": {
        "id": "o44GVjxKi1os"
      },
      "source": [
        "x = \"DreamBig\"\n",
        "index = 0                                        #initialising where to start\n",
        "while index<len(x):                              # how may times to iter\n",
        "  print(x[index])                                # Condition\n",
        "  index+=1"
      ],
      "execution_count": null,
      "outputs": []
    },
    {
      "cell_type": "code",
      "metadata": {
        "id": "A0Cz1CSq6oAR"
      },
      "source": [
        "# Find sum of all the numbers between any two numbers\n",
        "start = int(input(\"Enter initialising value of n: \"))\n",
        "end = int(input(\"Enter last value: \")) \n",
        "sum=0                                               \n",
        "while start <= end:                                    \n",
        "  sum=sum+start                                       \n",
        "  start=start+1\n",
        "print(\"Sum of sequence is: \" + str(sum))              "
      ],
      "execution_count": null,
      "outputs": []
    },
    {
      "cell_type": "code",
      "metadata": {
        "id": "Jm2UatnV9GP5"
      },
      "source": [
        "# Program to find factorial\n",
        "n=int(input(\"Enter the number for which factorial is required:\"))\n",
        "s=1                                             \n",
        "while n>0:                                      \n",
        "  s=s*n                                         \n",
        "  n = n-1\n",
        "print(\"Factorial of given number  is : \\n\" + str(s))"
      ],
      "execution_count": null,
      "outputs": []
    },
    {
      "cell_type": "code",
      "metadata": {
        "id": "xZs-i5TuoeGz"
      },
      "source": [
        "###Write  a program to calculate average of a list without using inbuilt functions using while loop\n",
        "x = [5,7,9,12]\n",
        "\n",
        "index=0\n",
        "n=0\n",
        "s=0\n",
        "while index<len(x):\n",
        "  s+=x[index]\n",
        "  n+=1\n",
        "  index+=1\n",
        "average = s/n\n",
        "print(average)"
      ],
      "execution_count": null,
      "outputs": []
    },
    {
      "cell_type": "markdown",
      "metadata": {
        "id": "YcLfRQgCG0WU"
      },
      "source": [
        "#### Infinite Loop\n",
        "**!CAUTION!**"
      ]
    },
    {
      "cell_type": "code",
      "metadata": {
        "id": "4dO4k7fL-Q_V"
      },
      "source": [
        "n = 10\n",
        "while True:\n",
        "  print(n, end=',')\n",
        "  n = n - 1\n",
        "print('Done!')"
      ],
      "execution_count": null,
      "outputs": []
    },
    {
      "cell_type": "markdown",
      "metadata": {
        "id": "6Lx9yGrp961j"
      },
      "source": [
        "#### Using 'break' & 'continue' in loops"
      ]
    },
    {
      "cell_type": "code",
      "metadata": {
        "id": "XfOZxOYaGcdJ"
      },
      "source": [
        "print(\"Enter names of Team members\")\n",
        "n=0\n",
        "while True:                               \n",
        "  name = input('> ')\n",
        "  if name == '':\n",
        "    break\n",
        "  n += 1\n",
        "print('Done! You are a team of', n, \"member(s)\")"
      ],
      "execution_count": null,
      "outputs": []
    },
    {
      "cell_type": "code",
      "metadata": {
        "id": "1Y1OOwNO-JGi"
      },
      "source": [
        "print(\"Enter names of Team members\")\n",
        "n=0\n",
        "while True:                               \n",
        "  name = input('> ')\n",
        "  if len(name) > 2:\n",
        "    continue\n",
        "  if name == '':\n",
        "    break\n",
        "  n += 1\n",
        "print('Done! You are a team of', n, \"member(s)\") ## continue skipped the loop further"
      ],
      "execution_count": null,
      "outputs": []
    },
    {
      "cell_type": "markdown",
      "metadata": {
        "id": "7LoTkbIPdE6K"
      },
      "source": [
        "#### Using try/except statements"
      ]
    },
    {
      "cell_type": "code",
      "metadata": {
        "id": "AnQZmpJjdFbA"
      },
      "source": [
        "temp = input('Enter Fahrenheit Temperature:')\n",
        "try:\n",
        "  fahr = float(temp)\n",
        "  cel = (fahr - 32.0) * 5.0 / 9.0\n",
        "  print(cel)\n",
        "except:\n",
        "  print('Please enter number only')\n"
      ],
      "execution_count": null,
      "outputs": []
    },
    {
      "cell_type": "code",
      "metadata": {
        "id": "SHUQ26apKN-w"
      },
      "source": [
        "x = -1\n",
        "if x < 0:\n",
        "  raise Exception(\"Sorry, no numbers below zero\")"
      ],
      "execution_count": null,
      "outputs": []
    },
    {
      "cell_type": "markdown",
      "metadata": {
        "id": "BDmfOI0g9aRz"
      },
      "source": [
        "## For : Definite loop"
      ]
    },
    {
      "cell_type": "markdown",
      "metadata": {
        "id": "l-x2YwjMH_Fw"
      },
      "source": [
        "![Screenshot from 2020-10-18 01-23-27.png](data:image/png;base64,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)"
      ]
    },
    {
      "cell_type": "markdown",
      "metadata": {
        "id": "e6MH18kxNP2A"
      },
      "source": [
        "```\n",
        "Working rule of 'for' loop\n",
        "• Initializing one or more variables before the loop starts\n",
        "• Performing some computation on each item in the loop body, possibly changing \n",
        "  the variables in the body of the loop\n",
        "• Looking at the resulting variables when the loop completes\n",
        "```"
      ]
    },
    {
      "cell_type": "code",
      "metadata": {
        "id": "LLbTdhKpHU81"
      },
      "source": [
        "for i in range(10):       # function range\n",
        "  print(i)"
      ],
      "execution_count": null,
      "outputs": []
    },
    {
      "cell_type": "code",
      "metadata": {
        "id": "YcSlnExgMqlo"
      },
      "source": [
        "## Count the number of elements in a list\n",
        "count = 0                                                         #Initialising variable\n",
        "for itervar in [3, 41, 12, 9, 74, 15]:                            #iterating through the list\n",
        "  count = count + 1                                                # Increasing count by 1 each time a new element is encountered\n",
        "\n",
        "print('Count: ', count)"
      ],
      "execution_count": null,
      "outputs": []
    },
    {
      "cell_type": "code",
      "metadata": {
        "id": "2u8E3ZKnip8V"
      },
      "source": [
        "## Print all characters of a string using for loop\n",
        "x = \"AlokAnand\"\n",
        "for i in x:\n",
        "  print(i)"
      ],
      "execution_count": null,
      "outputs": []
    },
    {
      "cell_type": "code",
      "metadata": {
        "id": "xvZL7rpqvqht"
      },
      "source": [
        "l1 = ['Brie', 'Roquefort', 'Pol le Veq']\n",
        "print(\"List l1 is\",l1)\n",
        "##Assesing all elements of list using for loop\n",
        "for i in l1:\n",
        "  print(i)"
      ],
      "execution_count": null,
      "outputs": []
    },
    {
      "cell_type": "code",
      "metadata": {
        "id": "gP0xQ2envj2g"
      },
      "source": [
        "##Assesing a  nested list\n",
        "l = ['spam', 1, ['Brie', 'Roquefort', 'Pol le Veq'], [1, 2, 3]]\n",
        "for i in l:\n",
        "  print(i)"
      ],
      "execution_count": null,
      "outputs": []
    },
    {
      "cell_type": "code",
      "metadata": {
        "id": "WnMj3cQXuhJ7"
      },
      "source": [
        "##Count the occurences of A\n",
        "x =\"AlokAnand\"\n",
        "x = x.lower()\n",
        "\"\"\"\n",
        "Dot notation A method call is called an invocation; \n",
        "in this case, we would say that we are invoking lower on the word.\n",
        "\"\"\"\n",
        "s=0\n",
        "for i in x:\n",
        "  if i==\"a\":\n",
        "    s=s+1\n",
        "print(s)"
      ],
      "execution_count": null,
      "outputs": []
    },
    {
      "cell_type": "code",
      "metadata": {
        "id": "Ocvj1i8CiNxE"
      },
      "source": [
        "# Function to count unique characters in a string\n",
        "x = \"hello World!\"\n",
        "unique=[]\n",
        "for i in x:\n",
        "  if not i in unique:\n",
        "    unique.append(i)\n",
        "print(unique)"
      ],
      "execution_count": null,
      "outputs": []
    },
    {
      "cell_type": "code",
      "metadata": {
        "id": "J8heyVmwimnJ"
      },
      "source": [
        "set(x) # Unique Characters"
      ],
      "execution_count": null,
      "outputs": []
    },
    {
      "cell_type": "code",
      "metadata": {
        "id": "BgMijzPfN7iu"
      },
      "source": [
        "## Find biggest number of the list\n",
        "num = [12,23,32,4,54,56]\n",
        "big=num[0]\n",
        "for i in range(len(num)-1):\n",
        "  if num[i+1]>big:\n",
        "    big=num[i+1]\n",
        "print(big)"
      ],
      "execution_count": null,
      "outputs": []
    },
    {
      "cell_type": "code",
      "metadata": {
        "id": "gPDwNi8ZPzki"
      },
      "source": [
        "## Find smallest number of the list\n",
        "num = [12,23,32,4,54,56]\n",
        "small=num[0]                                                \n",
        "for i in range(len(num)-1):\n",
        "  if num[i+1]<small:\n",
        "    small=num[i+1]\n",
        "print(small)"
      ],
      "execution_count": null,
      "outputs": []
    },
    {
      "cell_type": "code",
      "metadata": {
        "id": "rp8nsmmyP_Y1"
      },
      "source": [
        "## Program to find sum of all the entered numbers\n",
        "num_list=[]\n",
        "m=0\n",
        "count=0\n",
        "try:\n",
        "  while True:\n",
        "    num =(input(\">\"))\n",
        "    if num==\"Done\":\n",
        "      break\n",
        "    m = int(num) + m\n",
        "    num_list.append(num)\n",
        "    count=count+1\n",
        "  print(num_list)\n",
        "  print(m)\n",
        "  print(count)\n",
        "  print(\"Avg of numbers is:\",m/count)\n",
        "except:\n",
        "  print(\"Error\")\n"
      ],
      "execution_count": null,
      "outputs": []
    },
    {
      "cell_type": "code",
      "metadata": {
        "id": "wR6YZ5buv3pz"
      },
      "source": [
        "x = \"Earth is round\"\n",
        "s=0\n",
        "for n,i in enumerate(x):\n",
        "  s+=1\n",
        "print(s)"
      ],
      "execution_count": null,
      "outputs": []
    },
    {
      "cell_type": "code",
      "metadata": {
        "id": "WY6REluiv4Ne"
      },
      "source": [
        "## Indexxing each character\n",
        "x=\"alokanand\"\n",
        "for n,i in enumerate(x):\n",
        "  print(i,n)"
      ],
      "execution_count": null,
      "outputs": []
    },
    {
      "cell_type": "code",
      "metadata": {
        "id": "bAHKgdASv4cw"
      },
      "source": [
        "## Print all the indexes of a particular character\n",
        "name = \"BuntyTheHippo\"\n",
        "name = name.lower()\n",
        "for n,i in enumerate(name):\n",
        "  if i==\"p\":\n",
        "    print(n)"
      ],
      "execution_count": null,
      "outputs": []
    },
    {
      "cell_type": "code",
      "metadata": {
        "id": "MHB6hjdVv4BX"
      },
      "source": [
        "###Write  a program to calculate average of a list without using inbuilt functions using for loop\n",
        "x = [1,2,3,4,5,6]\n",
        "s=0\n",
        "n=0\n",
        "for n,i in enumerate(x):\n",
        "  s=s+i\n",
        "  n+=1\n",
        "average = s/n\n",
        "print(average)\n"
      ],
      "execution_count": null,
      "outputs": []
    },
    {
      "cell_type": "markdown",
      "metadata": {
        "id": "a9glRebZyB51"
      },
      "source": [
        "# SESSION - V"
      ]
    },
    {
      "cell_type": "markdown",
      "metadata": {
        "id": "ouDJOwKqWlxj"
      },
      "source": [
        "## Dictionary"
      ]
    },
    {
      "cell_type": "code",
      "metadata": {
        "id": "4oLUikV8WkVs"
      },
      "source": [
        "##Using zip function to create element to element pairs\n",
        "x = [\"a\",\"b\",\"c\"]\n",
        "y = [10,20,30]\n",
        "paired_ = list(zip(x,y))\n",
        "print(f'x is: {x}')\n",
        "print(f'y is :{y}')\n",
        "print(f'paired_ is {paired_}')"
      ],
      "execution_count": null,
      "outputs": []
    },
    {
      "cell_type": "code",
      "metadata": {
        "id": "kGvZ-cvRQ1LF"
      },
      "source": [
        "Name = [\"Tamanna\",\"Rakulpreet\",\"Shweta\",\"Shruti\",\"Ritika\"]\n",
        "Marks = [20,22,12,23,19]\n",
        "##Create a dictionary where name is key and marks are value\n",
        "paired_val = zip(Name,Marks)                        # Create a tuple having paired values\n",
        "Marks_ = dict(paired_val)                            # Create a dictionary\n",
        "print(Marks_)"
      ],
      "execution_count": null,
      "outputs": []
    },
    {
      "cell_type": "code",
      "metadata": {
        "id": "GeN4A0Z2YsCj"
      },
      "source": [
        "##Access the dictionary\n",
        "Marks_.items()"
      ],
      "execution_count": null,
      "outputs": []
    },
    {
      "cell_type": "code",
      "metadata": {
        "id": "xxxpUz15Y2c-"
      },
      "source": [
        "# Keys\n",
        "print(f'keys are \\n{Marks_.keys()}')"
      ],
      "execution_count": null,
      "outputs": []
    },
    {
      "cell_type": "code",
      "metadata": {
        "id": "Yxsk2MI5Y7AM"
      },
      "source": [
        "#Values\n",
        "print(f'Values are \\n:{Marks_.values()}')"
      ],
      "execution_count": null,
      "outputs": []
    },
    {
      "cell_type": "code",
      "metadata": {
        "id": "l1FzHyS7Y96H"
      },
      "source": [
        "## Accessing using the keys\n",
        "Marks_[\"Tamanna\"]"
      ],
      "execution_count": null,
      "outputs": []
    },
    {
      "cell_type": "code",
      "metadata": {
        "id": "iRuBzTQhZZ3V"
      },
      "source": [
        "# Creating a dictionary of index and elements of a list\n",
        "x = [10,20,30,40]\n",
        "dict_ = {}\n",
        "for n,i in enumerate(x):\n",
        "  dict_[n]=i\n",
        "dict_ "
      ],
      "execution_count": null,
      "outputs": []
    },
    {
      "cell_type": "code",
      "metadata": {
        "id": "x7gO6ooFZ8Jr"
      },
      "source": [
        "word = 'brontosaurus'\n",
        "from collections import defaultdict\n",
        "d = defaultdict(int)\n",
        "for i in word:\n",
        "  d[i]+=1"
      ],
      "execution_count": null,
      "outputs": []
    },
    {
      "cell_type": "code",
      "metadata": {
        "id": "e37WCSpTa87x"
      },
      "source": [
        "from collections import Counter\n",
        "Counter(word)"
      ],
      "execution_count": null,
      "outputs": []
    },
    {
      "cell_type": "code",
      "metadata": {
        "id": "-YbLqPWqbMzf"
      },
      "source": [
        "word = 'brontosaurus'\n",
        "d = {}\n",
        "for i in word:\n",
        "  if not i in d.keys():\n",
        "    d[i]=1\n",
        "  else:\n",
        "    d[i]+=1"
      ],
      "execution_count": null,
      "outputs": []
    },
    {
      "cell_type": "code",
      "metadata": {
        "id": "Z9F5EXWXbjUx"
      },
      "source": [
        "word = 'brontosaurus'\n",
        "d = dict()\n",
        "for c in word:\n",
        "  d[c] = d.get(c,0) + 1\n",
        "\n",
        "print(d)"
      ],
      "execution_count": null,
      "outputs": []
    },
    {
      "cell_type": "code",
      "metadata": {
        "id": "6aL4JoqdcO7V"
      },
      "source": [
        "##Create a word count dictionary of a file\n",
        "f = open(\"romio.txt\",'r')          #Open a file\n",
        "d = defaultdict(int)               # Create a open dictionary\n",
        "for i in f:                            \n",
        "  i=i.rstrip()     \n",
        "  i=i.split() \n",
        "  for j in i:\n",
        "    d[j]+=1"
      ],
      "execution_count": null,
      "outputs": []
    },
    {
      "cell_type": "code",
      "metadata": {
        "id": "DdA_R2gBeRCj"
      },
      "source": [
        "# Sorting a dictionary\n",
        "sorted(d.items(),key=lambda x:x[0])             #Using keys\n",
        "sorted(d.items(),key=lambda x:x[1])              #Using values"
      ],
      "execution_count": null,
      "outputs": []
    },
    {
      "cell_type": "code",
      "metadata": {
        "id": "Y0cqXMG2e1Pt"
      },
      "source": [
        "##Write a program for the following\n",
        "##Create a dictionary of all codons and their corresponding amino acids\n",
        "##Create a dictionary of all amino acids and their molecular weights\n",
        "##Design a program where the user is asked to keep on guessing the codon for stop codon, untill he guesses\\n\n",
        "#the right one. Print \" You are correct \", when the guess comes true. Also print the no. of guesses he made.\n",
        "#Use try and except , so that the user if prints anything which is not acceptable, it will print \"Error\""
      ],
      "execution_count": null,
      "outputs": []
    },
    {
      "cell_type": "code",
      "metadata": {
        "id": "0KXsAXbULeDl"
      },
      "source": [
        "# Write  functions for the following\n",
        "# i) Permutation\n",
        "#ii) Combination\n",
        "# iii) Percentage\n",
        "#iv) Maximum of a list of numbers\n",
        "#v) Minimum of a list of numbers\n",
        "# vi) user keep on typing numbers until he types done, store all these numbers in a list, find the max of this list, minimum of this list,\\n\n",
        "# Average of thist list, Median of this list , Standard deviation of this list. Also use try and except functions to make it more good and out of error\n",
        "\n",
        "# Write a function for the following\n",
        "# Take a,b and type as arguement where a is initial value ,b= final value  iii) type=relation\n",
        "#i) use numpy linspace function to generate 100 numbers b/w two numbers of the user's choice\n",
        "#ii) Generate for plot for the following relations of y=f(x) a) quadratic b) cubic c) sin  d) tan    e) sigmoid"
      ],
      "execution_count": null,
      "outputs": []
    },
    {
      "cell_type": "code",
      "metadata": {
        "id": "I22liy1Szdzp"
      },
      "source": [
        "d = {'a':10, 'b':1, 'c':22}\n",
        "d_items = d.items()\n",
        "d_items = list(d_items)\n",
        "print(d_items)"
      ],
      "execution_count": null,
      "outputs": []
    },
    {
      "cell_type": "code",
      "metadata": {
        "id": "IULsIovrzucf"
      },
      "source": [
        "###Changing the dictionary keys and values\n",
        "d = {'a':10, 'b':1, 'c':22}\n",
        "new_d = {}\n",
        "for key,val in list(d.items()):\n",
        "  new_d[val]=key\n",
        "new_d"
      ],
      "execution_count": null,
      "outputs": []
    },
    {
      "cell_type": "code",
      "metadata": {
        "id": "S7OrkVlx0U3p"
      },
      "source": [
        "### To find the most common words \n",
        "import string\n",
        "from collections import defaultdict\n",
        "\n",
        "fh = open(\"romio.txt\",'r')\n",
        "words=defaultdict(int)\n",
        "for i in fh:\n",
        "  i=i.rstrip()\n",
        "  i.translate(str.maketrans('', '', string.punctuation))\n",
        "  i=i.split()\n",
        "  for i in i:\n",
        "    words[i]+=1\n",
        "##Sorting according the values\n",
        "sorted(words.items(),key = lambda x:x[1],reverse=True)"
      ],
      "execution_count": null,
      "outputs": []
    },
    {
      "cell_type": "code",
      "metadata": {
        "id": "icGOuTss01si"
      },
      "source": [
        "#Alternative\n",
        "w = []\n",
        "for key,val in words.items():\n",
        "  w.append((val,key))\n",
        "w.sort(reverse=True)\n"
      ],
      "execution_count": null,
      "outputs": []
    },
    {
      "cell_type": "code",
      "metadata": {
        "id": "aWJkHuHK3Jcw"
      },
      "source": [
        "## Write a program for the following purpose\n",
        "##Download any research article of your interest from NCBI\n",
        "##Create a dictionary, where keys are words and values are count it appeared in that article \n",
        "##There should be no stop words , punctuations in the keys\n",
        "##Sort the dictionary by their values"
      ],
      "execution_count": null,
      "outputs": []
    },
    {
      "cell_type": "markdown",
      "metadata": {
        "id": "WyKlbtbGB4dD"
      },
      "source": [
        "## Tuples"
      ]
    },
    {
      "cell_type": "markdown",
      "metadata": {
        "id": "_NrQp6uBu12H"
      },
      "source": [
        "TUPLES\n",
        "The values stored in a tuple can be any type, and they are indexed by integers\n",
        "Syntactically, a tuple is a comma-separated list of values"
      ]
    },
    {
      "cell_type": "code",
      "metadata": {
        "id": "JRejCMBZu416"
      },
      "source": [
        "#Without Parenthesis\n",
        "t = 'a', 'b', 'c', 'd', 'e'"
      ],
      "execution_count": null,
      "outputs": []
    },
    {
      "cell_type": "code",
      "metadata": {
        "id": "NhisdxdKvPDO"
      },
      "source": [
        "#With Parentheis\n",
        "t = ('a', 'b', 'c', 'd', 'e')"
      ],
      "execution_count": null,
      "outputs": []
    },
    {
      "cell_type": "code",
      "metadata": {
        "id": "PJ4-0mE3vQ5Y"
      },
      "source": [
        "# Single Value\n",
        "t  = ('alok')\n",
        "print(f' Type of {t} is : {type(t)}')\n",
        "\n",
        "t1 = (\"alok\",)                                  # Comma is required when using a single value inside parentheses\n",
        "print(f' Type of {t1} is : {type(t1)}')"
      ],
      "execution_count": null,
      "outputs": []
    },
    {
      "cell_type": "code",
      "metadata": {
        "id": "w0ChsAfUvk0C"
      },
      "source": [
        "## Tuple analogue to List\n",
        "t = tuple('lupins')\n",
        "print(t)\n",
        "\n",
        "t1 =list('lupins')\n",
        "print(t1)"
      ],
      "execution_count": null,
      "outputs": []
    },
    {
      "cell_type": "code",
      "metadata": {
        "id": "coPjzTEbwj_S"
      },
      "source": [
        "#Slicing of tuples is same as slicing of other data types\n",
        "t = tuple('lupins')\n",
        "t[1]\n",
        "t[1:3]\n",
        "t[::-1]"
      ],
      "execution_count": null,
      "outputs": []
    },
    {
      "cell_type": "code",
      "metadata": {
        "id": "piCelbzpxJKB"
      },
      "source": [
        "##Assignment not allowed\n",
        "t = tuple('lupins')\n",
        "t[1]=\"a\""
      ],
      "execution_count": null,
      "outputs": []
    },
    {
      "cell_type": "code",
      "metadata": {
        "id": "1yMsVrXcxXfz"
      },
      "source": [
        "txt = 'but soft what light in yonder window breaks'\n",
        "words = txt.split()\n",
        "t = list()\n",
        "for word in words:\n",
        "  t.append((len(word), word))            ##Generation of tuple\n",
        "t.sort(reverse=True)\n",
        "print(t)\n",
        "\n",
        "\n",
        "res = list()\n",
        "for length, word in t:\n",
        "  res.append(word)\n",
        "\n",
        "print(res)\n"
      ],
      "execution_count": null,
      "outputs": []
    },
    {
      "cell_type": "markdown",
      "metadata": {
        "id": "zCkzRpsXtWbD"
      },
      "source": [
        "# SESSION VI"
      ]
    },
    {
      "cell_type": "markdown",
      "metadata": {
        "id": "YNP_mN9NA_AI"
      },
      "source": [
        "## Regular Expression"
      ]
    },
    {
      "cell_type": "markdown",
      "metadata": {
        "id": "LlSHvasUrZKl"
      },
      "source": [
        "- regex or regexp or REs\n",
        "\n",
        "- a sequence of characters that define a \"search pattern\"\n"
      ]
    },
    {
      "cell_type": "markdown",
      "metadata": {
        "id": "VmnEBZ8Dq7hA"
      },
      "source": [
        "\n",
        "```\n",
        "import re\n",
        "\n",
        "match = re.search(r'pattern', string)\n",
        "```\n",
        "\n"
      ]
    },
    {
      "cell_type": "code",
      "metadata": {
        "id": "KWxzC9HkzxED"
      },
      "source": [
        "import re"
      ],
      "execution_count": null,
      "outputs": []
    },
    {
      "cell_type": "code",
      "metadata": {
        "id": "S3IDtKFlq6i1",
        "colab": {
          "base_uri": "https://localhost:8080/"
        },
        "outputId": "25567a90-77d8-423e-f008-e845dc824d67"
      },
      "source": [
        "mystr = 'word:catbatrat!!!'\n",
        "\n",
        "match = re.search(r'word:\\w\\w\\w', mystr)   # returns matching characters, but if it doesnot find a match it returns \"None\"\n",
        "\n",
        "if match:\n",
        "  print('match is>', match.group()) \n",
        "else:\n",
        "  print('no match found')"
      ],
      "execution_count": null,
      "outputs": [
        {
          "output_type": "stream",
          "text": [
            "match is> word:cat\n"
          ],
          "name": "stdout"
        }
      ]
    },
    {
      "cell_type": "markdown",
      "metadata": {
        "id": "W5dIcmd24Mld"
      },
      "source": [
        "**Basic patterns:**"
      ]
    },
    {
      "cell_type": "markdown",
      "metadata": {
        "id": "KCu_D4RV01uX"
      },
      "source": [
        "\n",
        "``` a X 9 ``` - ordinary characters match exactly. \n",
        "\n",
        "\n",
        "``` . ^ $ * + ? { [ ] \\ | ( ) ``` - these meta-characters do not match exactly as they have special meaning.\n",
        "\n",
        "\n",
        "``` . ``` - matches any single character except newline ```\\n```\n",
        "\n",
        "\n",
        "``` \\w ``` - matches \"word\" character ```[a-zA-Z0-9_]``` (letter,digit or underbar)\n",
        "\n",
        "\n",
        "``` \\W ``` - matches any non-word character\n",
        "\n",
        "\n",
        "```\\b``` - boundary between word and non-word\n",
        "\n",
        "\n",
        "```\\s``` - matches a single whitespace character ```[ \\n\\r\\t]``` (space, newline, return, tab)\n",
        "\n",
        "```\\S``` - matches any non-whitespace character\n",
        "\n",
        "```\\t \\n \\r``` - match to tab, newline, return respectively\n",
        "\n",
        "```\\d``` - decimal digit ```[0-9]```\n",
        "\n",
        "```^``` - match start of the string\n",
        "\n",
        "```$``` - match the end of the string\n",
        "\n",
        "``` \\ ``` - inhibits the \"specialness\" of a character."
      ]
    },
    {
      "cell_type": "markdown",
      "metadata": {
        "id": "2nTIkY6R5pJY"
      },
      "source": [
        "Important points:\n",
        "\n",
        "- goes from start to end, **stops** at the first match found\n",
        "\n",
        "- all of the pattern must be matched\n"
      ]
    },
    {
      "cell_type": "code",
      "metadata": {
        "id": "A1IUoHrVz97k",
        "colab": {
          "base_uri": "https://localhost:8080/"
        },
        "outputId": "3f1c2626-573c-4e07-8ab3-ba28e591f714"
      },
      "source": [
        "re.search(r'word:\\w\\w\\w', \"word:catbatrat!!!\")"
      ],
      "execution_count": null,
      "outputs": [
        {
          "output_type": "execute_result",
          "data": {
            "text/plain": [
              "<re.Match object; span=(0, 8), match='word:cat'>"
            ]
          },
          "metadata": {},
          "execution_count": 39
        }
      ]
    },
    {
      "cell_type": "code",
      "metadata": {
        "id": "ht3D1bmNz-mO",
        "colab": {
          "base_uri": "https://localhost:8080/"
        },
        "outputId": "770fd0d8-80ed-4db4-ea9d-13593ffbab27"
      },
      "source": [
        "re.findall(r'word:\\w\\w\\w', \"word:catword:batword:rat!!!\")"
      ],
      "execution_count": null,
      "outputs": [
        {
          "output_type": "execute_result",
          "data": {
            "text/plain": [
              "['word:cat', 'word:bat', 'word:rat']"
            ]
          },
          "metadata": {},
          "execution_count": 4
        }
      ]
    },
    {
      "cell_type": "code",
      "metadata": {
        "id": "zn1sLV2Fz_BX",
        "colab": {
          "base_uri": "https://localhost:8080/"
        },
        "outputId": "99d717c5-cf53-4797-8c4a-fc2223748214"
      },
      "source": [
        "re.findall(r'digit:\\d\\d', \"digit:76digit:NAdigit:87\")"
      ],
      "execution_count": null,
      "outputs": [
        {
          "output_type": "execute_result",
          "data": {
            "text/plain": [
              "['digit:76', 'digit:87']"
            ]
          },
          "metadata": {},
          "execution_count": 5
        }
      ]
    },
    {
      "cell_type": "markdown",
      "metadata": {
        "id": "2vFygKDeE0SB"
      },
      "source": [
        "Repetitions:\n",
        "\n",
        "```+``` - 1 or more occurrences of the pattern to its left\n",
        "\n",
        "```*``` - 0 or more occurrences of the pattern to its left\n",
        "\n",
        "```?``` - match 0 or 1 occurrences of the pattern to its left"
      ]
    },
    {
      "cell_type": "code",
      "metadata": {
        "id": "8dyQ0gFNGiQ5",
        "colab": {
          "base_uri": "https://localhost:8080/"
        },
        "outputId": "58862d23-c395-4143-cbdb-e58388d73065"
      },
      "source": [
        "s = 'A message from csev@umich.edu to cwen@iupui.edu about meeting @2PM'\n",
        "lst = re.findall('\\S+@\\S+', s)\n",
        "print(lst)"
      ],
      "execution_count": null,
      "outputs": [
        {
          "output_type": "stream",
          "text": [
            "['csev@umich.edu', 'cwen@iupui.edu']\n"
          ],
          "name": "stdout"
        }
      ]
    },
    {
      "cell_type": "code",
      "metadata": {
        "id": "zG3sr71PGseg",
        "colab": {
          "base_uri": "https://localhost:8080/"
        },
        "outputId": "129a98de-f6c0-43a2-9a98-e007bb30eee2"
      },
      "source": [
        "#Printing special characters\n",
        "x = 'We just received $10.00 for cookies.'\n",
        "\n",
        "\n",
        "y = re.findall('\\$[0-9.]+',x)\n",
        "z = re.findall('\\$\\d+\\.\\d+',x)\n",
        "y"
      ],
      "execution_count": null,
      "outputs": [
        {
          "output_type": "execute_result",
          "data": {
            "text/plain": [
              "['$10.00']"
            ]
          },
          "metadata": {},
          "execution_count": 7
        }
      ]
    },
    {
      "cell_type": "code",
      "metadata": {
        "id": "A6ZY5xxTPjUd",
        "colab": {
          "base_uri": "https://localhost:8080/"
        },
        "outputId": "bbeebc68-5520-4604-fc34-b054f3169f7f"
      },
      "source": [
        "# Extracting all consonants and vowels\n",
        "w = \"alimentativeness\"\n",
        "cons=re.findall('[^aeiou]',w)\n",
        "vow=re.findall('[aeiou]',w)\n",
        "cons, vow"
      ],
      "execution_count": null,
      "outputs": [
        {
          "output_type": "execute_result",
          "data": {
            "text/plain": [
              "(['l', 'm', 'n', 't', 't', 'v', 'n', 's', 's'],\n",
              " ['a', 'i', 'e', 'a', 'i', 'e', 'e'])"
            ]
          },
          "metadata": {},
          "execution_count": 8
        }
      ]
    },
    {
      "cell_type": "markdown",
      "metadata": {
        "id": "7CmOCOJQHeQ5"
      },
      "source": [
        "Example dataset 1"
      ]
    },
    {
      "cell_type": "code",
      "metadata": {
        "id": "6AtyxUct5kNM",
        "colab": {
          "base_uri": "https://localhost:8080/"
        },
        "outputId": "50fadd4a-6bf1-448f-d0b7-235b2c6a80be"
      },
      "source": [
        "# Importing nltk for Regular expression text data\n",
        "import nltk\n",
        "nltk.download('words')"
      ],
      "execution_count": null,
      "outputs": [
        {
          "output_type": "stream",
          "text": [
            "[nltk_data] Downloading package words to /root/nltk_data...\n",
            "[nltk_data]   Unzipping corpora/words.zip.\n"
          ],
          "name": "stdout"
        },
        {
          "output_type": "execute_result",
          "data": {
            "text/plain": [
              "True"
            ]
          },
          "metadata": {},
          "execution_count": 9
        }
      ]
    },
    {
      "cell_type": "code",
      "metadata": {
        "id": "GUGe8SHkB5-X"
      },
      "source": [
        "wordlist = [w for w in nltk.corpus.words.words('en') if w.islower()]"
      ],
      "execution_count": null,
      "outputs": []
    },
    {
      "cell_type": "code",
      "metadata": {
        "id": "KqNKDgQhMK90",
        "colab": {
          "base_uri": "https://localhost:8080/"
        },
        "outputId": "93479fe4-b1a5-4a1a-ccc6-95c49250930e"
      },
      "source": [
        "len(wordlist)"
      ],
      "execution_count": null,
      "outputs": [
        {
          "output_type": "execute_result",
          "data": {
            "text/plain": [
              "210687"
            ]
          },
          "metadata": {},
          "execution_count": 11
        }
      ]
    },
    {
      "cell_type": "code",
      "metadata": {
        "id": "QmUOKWBAiSAE",
        "colab": {
          "base_uri": "https://localhost:8080/"
        },
        "outputId": "b3e67629-30b5-44a8-a2ed-8fb85d215b17"
      },
      "source": [
        "# First 10 words\n",
        "print(wordlist[:10])"
      ],
      "execution_count": null,
      "outputs": [
        {
          "output_type": "stream",
          "text": [
            "['a', 'aa', 'aal', 'aalii', 'aam', 'aardvark', 'aardwolf', 'aba', 'abac', 'abaca']\n"
          ],
          "name": "stdout"
        }
      ]
    },
    {
      "cell_type": "code",
      "metadata": {
        "id": "20bKPqxzicdj",
        "colab": {
          "base_uri": "https://localhost:8080/"
        },
        "outputId": "7a5639fb-4e5b-4643-8a75-5d5919bd3bbb"
      },
      "source": [
        "## Example for $\n",
        "[w for w in wordlist if re.search('ed$',w)][:10]"
      ],
      "execution_count": null,
      "outputs": [
        {
          "output_type": "execute_result",
          "data": {
            "text/plain": [
              "['abaissed',\n",
              " 'abandoned',\n",
              " 'abased',\n",
              " 'abashed',\n",
              " 'abatised',\n",
              " 'abed',\n",
              " 'aborted',\n",
              " 'abridged',\n",
              " 'abscessed',\n",
              " 'absconded']"
            ]
          },
          "metadata": {},
          "execution_count": 13
        }
      ]
    },
    {
      "cell_type": "code",
      "metadata": {
        "id": "1EyUbgB3iuZa",
        "colab": {
          "base_uri": "https://localhost:8080/"
        },
        "outputId": "03439c85-8611-4e68-b29f-d3fc2d5634ca"
      },
      "source": [
        "# Third letter j , sixth letter t and total length 8\n",
        "[w for w in wordlist if re.search('^..j..t..$', w)][:10]"
      ],
      "execution_count": null,
      "outputs": [
        {
          "output_type": "execute_result",
          "data": {
            "text/plain": [
              "['abjectly',\n",
              " 'adjuster',\n",
              " 'dejected',\n",
              " 'dejectly',\n",
              " 'injector',\n",
              " 'majestic',\n",
              " 'objectee',\n",
              " 'objector',\n",
              " 'rejecter',\n",
              " 'rejector']"
            ]
          },
          "metadata": {},
          "execution_count": 14
        }
      ]
    },
    {
      "cell_type": "code",
      "metadata": {
        "id": "tzrKSe6SjH9p",
        "colab": {
          "base_uri": "https://localhost:8080/"
        },
        "outputId": "92925270-d341-454b-c51b-12b1be5e6f59"
      },
      "source": [
        "# ? - preceeding character can be there or any other choice also\n",
        "[ w for w in wordlist if re.search('^..j?..t..$',w)][:10]"
      ],
      "execution_count": null,
      "outputs": [
        {
          "output_type": "execute_result",
          "data": {
            "text/plain": [
              "['abactor',\n",
              " 'abbotcy',\n",
              " 'abettal',\n",
              " 'abettor',\n",
              " 'abietic',\n",
              " 'abietin',\n",
              " 'abiotic',\n",
              " 'abiston',\n",
              " 'abjectly',\n",
              " 'ablator']"
            ]
          },
          "metadata": {},
          "execution_count": 15
        }
      ]
    },
    {
      "cell_type": "code",
      "metadata": {
        "id": "tOSOmjGOj0eM",
        "colab": {
          "base_uri": "https://localhost:8080/"
        },
        "outputId": "4e307998-e9de-4949-b900-2adc3fe573de"
      },
      "source": [
        "# 4 letter word , one letter from each bracket\n",
        "[w for w in wordlist if re.search('^[ghi][mno][jlk][def]$', w)]"
      ],
      "execution_count": null,
      "outputs": [
        {
          "output_type": "execute_result",
          "data": {
            "text/plain": [
              "['gold', 'golf', 'hold', 'hole']"
            ]
          },
          "metadata": {},
          "execution_count": 16
        }
      ]
    },
    {
      "cell_type": "code",
      "metadata": {
        "id": "Sm_1WuALk6SU",
        "colab": {
          "base_uri": "https://localhost:8080/"
        },
        "outputId": "702fb772-4a9c-4553-9598-f71dda1f2249"
      },
      "source": [
        "# Making words with alphabets g-o\n",
        "[w for w in wordlist if re.search('[^ghijklmno]+$', w)][:10]"
      ],
      "execution_count": null,
      "outputs": [
        {
          "output_type": "execute_result",
          "data": {
            "text/plain": [
              "['a',\n",
              " 'aa',\n",
              " 'aardwolf',\n",
              " 'aba',\n",
              " 'abac',\n",
              " 'abaca',\n",
              " 'abacate',\n",
              " 'abacay',\n",
              " 'abacinate',\n",
              " 'abaciscus']"
            ]
          },
          "metadata": {},
          "execution_count": 17
        }
      ]
    },
    {
      "cell_type": "code",
      "metadata": {
        "id": "cz1FmD8Dl612",
        "colab": {
          "base_uri": "https://localhost:8080/"
        },
        "outputId": "8134185c-f45d-4d2e-e4ac-6850d874241a"
      },
      "source": [
        "[w for w in wordlist if re.search('[g-oG-O]+$', w)][:10]"
      ],
      "execution_count": null,
      "outputs": [
        {
          "output_type": "execute_result",
          "data": {
            "text/plain": [
              "['aal',\n",
              " 'aalii',\n",
              " 'aam',\n",
              " 'aardvark',\n",
              " 'abacination',\n",
              " 'aback',\n",
              " 'abactinal',\n",
              " 'abaction',\n",
              " 'abalienation',\n",
              " 'abandon']"
            ]
          },
          "metadata": {},
          "execution_count": 18
        }
      ]
    },
    {
      "cell_type": "markdown",
      "metadata": {
        "id": "aJeuXBnSGu5Q"
      },
      "source": [
        "Example dataset 2"
      ]
    },
    {
      "cell_type": "code",
      "metadata": {
        "id": "XJUypMtemJz6",
        "colab": {
          "base_uri": "https://localhost:8080/"
        },
        "outputId": "c9e4d38f-5946-4763-e9d5-ce6f2d769ff3"
      },
      "source": [
        " #+ means one or more characters\n",
        "nltk.download('nps_chat')\n",
        "chat_words = sorted(set(w for w in nltk.corpus.nps_chat.words()))\n",
        "[w for w in chat_words if re.search('^m+i+n+e+$', w)][:10]"
      ],
      "execution_count": null,
      "outputs": [
        {
          "output_type": "stream",
          "text": [
            "[nltk_data] Downloading package nps_chat to /root/nltk_data...\n",
            "[nltk_data]   Unzipping corpora/nps_chat.zip.\n"
          ],
          "name": "stdout"
        },
        {
          "output_type": "execute_result",
          "data": {
            "text/plain": [
              "['miiiiiiiiiiiiinnnnnnnnnnneeeeeeeeee',\n",
              " 'miiiiiinnnnnnnnnneeeeeeee',\n",
              " 'mine',\n",
              " 'mmmmmmmmiiiiiiiiinnnnnnnnneeeeeeee']"
            ]
          },
          "metadata": {},
          "execution_count": 19
        }
      ]
    },
    {
      "cell_type": "code",
      "metadata": {
        "id": "3JDfkF3ymmpP",
        "colab": {
          "base_uri": "https://localhost:8080/"
        },
        "outputId": "bdc933ea-56ca-47e8-c08a-ba4b2d4e0f82"
      },
      "source": [
        "#* means 0 or more characters\n",
        "[w for w in chat_words if re.search('^[ha]+$', w)][:10]"
      ],
      "execution_count": null,
      "outputs": [
        {
          "output_type": "execute_result",
          "data": {
            "text/plain": [
              "['a',\n",
              " 'aaaaaaaaaaaaaaaaa',\n",
              " 'aaahhhh',\n",
              " 'ah',\n",
              " 'ahah',\n",
              " 'ahahah',\n",
              " 'ahh',\n",
              " 'ahhahahaha',\n",
              " 'ahhh',\n",
              " 'ahhhh']"
            ]
          },
          "metadata": {},
          "execution_count": 20
        }
      ]
    },
    {
      "cell_type": "code",
      "metadata": {
        "id": "wTA_-myNm8pL",
        "colab": {
          "base_uri": "https://localhost:8080/"
        },
        "outputId": "8e0173cf-da22-4832-8d5d-ceaa8b7f0fde"
      },
      "source": [
        "##^ inside sq. bracket restrict the use of first first from the sequence mentioned\n",
        "[w for w in wordlist if re.search('^[^aeiouAEIOU]',w)][:10]"
      ],
      "execution_count": null,
      "outputs": [
        {
          "output_type": "execute_result",
          "data": {
            "text/plain": [
              "['b',\n",
              " 'ba',\n",
              " 'baa',\n",
              " 'baahling',\n",
              " 'baal',\n",
              " 'baar',\n",
              " 'baba',\n",
              " 'babacoote',\n",
              " 'babai',\n",
              " 'babasco']"
            ]
          },
          "metadata": {},
          "execution_count": 21
        }
      ]
    },
    {
      "cell_type": "code",
      "metadata": {
        "id": "M7z3eNcMoaRd",
        "colab": {
          "base_uri": "https://localhost:8080/"
        },
        "outputId": "f2a37d33-94e5-4f88-af1a-4094203c7a27"
      },
      "source": [
        "# Output all nonvowels\n",
        "[w for w in wordlist if re.search('^[^aeiouAEIOU]+$',w)][:10]"
      ],
      "execution_count": null,
      "outputs": [
        {
          "output_type": "execute_result",
          "data": {
            "text/plain": [
              "['b', 'by', 'byth', 'c', 'cly', 'cry', 'crypt', 'cwm', 'cyp', 'cyst']"
            ]
          },
          "metadata": {},
          "execution_count": 22
        }
      ]
    },
    {
      "cell_type": "markdown",
      "metadata": {
        "id": "tM0vrRkrHB4Z"
      },
      "source": [
        "Example dataset 3"
      ]
    },
    {
      "cell_type": "code",
      "metadata": {
        "id": "YuuWvL50oqQf",
        "colab": {
          "base_uri": "https://localhost:8080/"
        },
        "outputId": "b1f014f0-010c-4366-9ea6-edfbcabd67c0"
      },
      "source": [
        "nltk.download('treebank')\n",
        "wsj = sorted(set(nltk.corpus.treebank.words()))"
      ],
      "execution_count": null,
      "outputs": [
        {
          "output_type": "stream",
          "text": [
            "[nltk_data] Downloading package treebank to /root/nltk_data...\n",
            "[nltk_data]   Unzipping corpora/treebank.zip.\n"
          ],
          "name": "stdout"
        }
      ]
    },
    {
      "cell_type": "code",
      "metadata": {
        "id": "olG_PJs8pefW",
        "colab": {
          "base_uri": "https://localhost:8080/"
        },
        "outputId": "9e8dfba5-9205-492b-8a6f-ee7c966cc28e"
      },
      "source": [
        "##Printing all floating numbers\n",
        "[w for w in wsj if re.search('^[0-9]+\\.[0-9]+$', w)][:10]"
      ],
      "execution_count": null,
      "outputs": [
        {
          "output_type": "execute_result",
          "data": {
            "text/plain": [
              "['0.0085', '0.05', '0.1', '0.16', '0.2', '0.25', '0.28', '0.3', '0.4', '0.5']"
            ]
          },
          "metadata": {},
          "execution_count": 24
        }
      ]
    },
    {
      "cell_type": "code",
      "metadata": {
        "id": "192XpHvJpv3I",
        "colab": {
          "base_uri": "https://localhost:8080/"
        },
        "outputId": "7e09d076-ceae-43d4-f101-2251230fd8db"
      },
      "source": [
        "[w for w in wsj if re.search('^[A-Z]+\\$+$', w)][:10]"
      ],
      "execution_count": null,
      "outputs": [
        {
          "output_type": "execute_result",
          "data": {
            "text/plain": [
              "['C$', 'US$']"
            ]
          },
          "metadata": {},
          "execution_count": 25
        }
      ]
    },
    {
      "cell_type": "code",
      "metadata": {
        "id": "7G92yvUxqD_K",
        "colab": {
          "base_uri": "https://localhost:8080/"
        },
        "outputId": "d70f2ca6-1031-4433-83b9-51a0c3cc8625"
      },
      "source": [
        "[w for w in wsj if re.search('^[0-9]{4}$', w)][:10]"
      ],
      "execution_count": null,
      "outputs": [
        {
          "output_type": "execute_result",
          "data": {
            "text/plain": [
              "['1614',\n",
              " '1637',\n",
              " '1787',\n",
              " '1901',\n",
              " '1903',\n",
              " '1917',\n",
              " '1925',\n",
              " '1929',\n",
              " '1933',\n",
              " '1934']"
            ]
          },
          "metadata": {},
          "execution_count": 26
        }
      ]
    },
    {
      "cell_type": "code",
      "metadata": {
        "id": "VSKbHFaKqT8m",
        "colab": {
          "base_uri": "https://localhost:8080/"
        },
        "outputId": "d9b9b9ff-93fb-42c8-fb4f-b44e233fcc41"
      },
      "source": [
        "[w for w in wsj if re.search('^[0-9]+-[a-z]{3,5}$', w)][:10]"
      ],
      "execution_count": null,
      "outputs": [
        {
          "output_type": "execute_result",
          "data": {
            "text/plain": [
              "['10-day',\n",
              " '10-lap',\n",
              " '10-year',\n",
              " '100-share',\n",
              " '12-point',\n",
              " '12-year',\n",
              " '14-hour',\n",
              " '15-day',\n",
              " '150-point',\n",
              " '190-point']"
            ]
          },
          "metadata": {},
          "execution_count": 27
        }
      ]
    },
    {
      "cell_type": "code",
      "metadata": {
        "id": "IIQ69FVzqvps",
        "colab": {
          "base_uri": "https://localhost:8080/"
        },
        "outputId": "aa60927e-45fc-45ee-b422-46d57f584000"
      },
      "source": [
        "[w for w in wsj if re.search('^[a-z]{5,}-[a-z]{2,3}-[a-z]{,6}$', w)][:10]"
      ],
      "execution_count": null,
      "outputs": [
        {
          "output_type": "execute_result",
          "data": {
            "text/plain": [
              "['black-and-white',\n",
              " 'bread-and-butter',\n",
              " 'father-in-law',\n",
              " 'machine-gun-toting',\n",
              " 'savings-and-loan']"
            ]
          },
          "metadata": {},
          "execution_count": 28
        }
      ]
    },
    {
      "cell_type": "code",
      "metadata": {
        "id": "4kHJRepJq_7M",
        "colab": {
          "base_uri": "https://localhost:8080/"
        },
        "outputId": "5939b585-e99a-47d3-c79f-8f8b2b29a041"
      },
      "source": [
        "[w for w in wordlist if re.search('^[a-z]{3,6}$',w)][:10]"
      ],
      "execution_count": null,
      "outputs": [
        {
          "output_type": "execute_result",
          "data": {
            "text/plain": [
              "['aal',\n",
              " 'aalii',\n",
              " 'aam',\n",
              " 'aba',\n",
              " 'abac',\n",
              " 'abaca',\n",
              " 'abacay',\n",
              " 'aback',\n",
              " 'abacus',\n",
              " 'abaff']"
            ]
          },
          "metadata": {},
          "execution_count": 29
        }
      ]
    },
    {
      "cell_type": "code",
      "metadata": {
        "id": "ChAKnhiXtG58",
        "colab": {
          "base_uri": "https://localhost:8080/"
        },
        "outputId": "10dfceab-7ff0-41a8-badd-d39092d3cb34"
      },
      "source": [
        "[w for w in wsj if re.search('(ed|ing)$', w)][:10]"
      ],
      "execution_count": null,
      "outputs": [
        {
          "output_type": "execute_result",
          "data": {
            "text/plain": [
              "['62%-owned',\n",
              " 'Absorbed',\n",
              " 'According',\n",
              " 'Adopting',\n",
              " 'Advanced',\n",
              " 'Advancing',\n",
              " 'Alfred',\n",
              " 'Allied',\n",
              " 'Annualized',\n",
              " 'Anything']"
            ]
          },
          "metadata": {},
          "execution_count": 30
        }
      ]
    },
    {
      "cell_type": "code",
      "metadata": {
        "id": "0jA-mnIHtwr1",
        "colab": {
          "base_uri": "https://localhost:8080/"
        },
        "outputId": "4a0a76ff-41bf-403b-df4a-5c72fbfda1d7"
      },
      "source": [
        "[w for w in wordlist if re.search('(s|y)$',w)][:10]"
      ],
      "execution_count": null,
      "outputs": [
        {
          "output_type": "execute_result",
          "data": {
            "text/plain": [
              "['abacay',\n",
              " 'abaciscus',\n",
              " 'abactinally',\n",
              " 'abaculus',\n",
              " 'abacus',\n",
              " 'abandonedly',\n",
              " 'abarthrosis',\n",
              " 'abas',\n",
              " 'abasedly',\n",
              " 'abasedness']"
            ]
          },
          "metadata": {},
          "execution_count": 31
        }
      ]
    },
    {
      "cell_type": "markdown",
      "metadata": {
        "id": "-aaI7JEgL81v"
      },
      "source": [
        "# Section - VII"
      ]
    },
    {
      "cell_type": "markdown",
      "metadata": {
        "id": "4RkoVI41-i_S"
      },
      "source": [
        "##**File Handling**\n",
        "Opening files"
      ]
    },
    {
      "cell_type": "markdown",
      "metadata": {
        "id": "YiM23AQjLg8T"
      },
      "source": [
        "open()\n",
        "\n",
        "\"r\" - Read\n",
        "\n",
        "\"a\" - Append\n",
        "\n",
        "\"w\" - Write\n",
        "\n",
        "\"x\" - Create"
      ]
    },
    {
      "cell_type": "markdown",
      "metadata": {
        "id": "dlLzEMmJMXkm"
      },
      "source": [
        "\"t\" - Text\n",
        "\n",
        "\"b\" - Binary "
      ]
    },
    {
      "cell_type": "code",
      "metadata": {
        "id": "YklUM-3cMmsQ"
      },
      "source": [
        "#f = open('py_work.txt','x')\n",
        "f = open('py_work.txt','rt')\n",
        "f.close()"
      ],
      "execution_count": null,
      "outputs": []
    },
    {
      "cell_type": "code",
      "metadata": {
        "id": "-uRFYxUQNRA0"
      },
      "source": [
        "f = open('py_work.txt','w')\n",
        "f.write(\"Hello, world!!! Lets write some files in python!!\")\n",
        "f.close()"
      ],
      "execution_count": null,
      "outputs": []
    },
    {
      "cell_type": "code",
      "metadata": {
        "id": "NVwHQZ9u-Ub8"
      },
      "source": [
        "f = open('py_work.txt','r')\n",
        "print(f.read())\n",
        "f.close()"
      ],
      "execution_count": null,
      "outputs": []
    },
    {
      "cell_type": "code",
      "metadata": {
        "id": "UBYuSwHSO7HP"
      },
      "source": [
        "mytext = \"\"\"“You are a slow learner, Winston.\"\n",
        "\"How can I help it?\n",
        "How can I help but see what is in front of my eyes?\n",
        "Two and two are four.\"\n",
        "\"Sometimes, Winston.\n",
        "Sometimes they are five.\n",
        "Sometimes they are three.\n",
        "Sometimes they are all of them at once.\n",
        "You must try harder.\n",
        "It is not easy to become sane.”\"\"\""
      ],
      "execution_count": null,
      "outputs": []
    },
    {
      "cell_type": "code",
      "metadata": {
        "id": "GDX4QTvjQCqn"
      },
      "source": [
        "f = open('py_work.txt','w')\n",
        "f.write(mytext)\n",
        "f.close()"
      ],
      "execution_count": null,
      "outputs": []
    },
    {
      "cell_type": "code",
      "metadata": {
        "id": "RU88W0M7BujN"
      },
      "source": [
        "##Counting number of lines in file\n",
        "f = open('py_work.txt')\n",
        "s=0\n",
        "for line in f:\n",
        "  print(line)\n",
        "  s+=1\n",
        "print(\"numberoflines:\",s)"
      ],
      "execution_count": null,
      "outputs": []
    },
    {
      "cell_type": "code",
      "metadata": {
        "id": "OaUxbiy5CpYj"
      },
      "source": [
        "###Reading whole file as a single string\n",
        "fh = open('py_work.txt')\n",
        "f = fh.read()\n",
        "print(len(f))\n",
        "print(f[:5])\n",
        "fh.close()"
      ],
      "execution_count": null,
      "outputs": []
    },
    {
      "cell_type": "markdown",
      "metadata": {
        "id": "ZmAJkVwORa2c"
      },
      "source": [
        "```startswith rstrip find```"
      ]
    },
    {
      "cell_type": "code",
      "metadata": {
        "id": "_UnHRtTADqh-"
      },
      "source": [
        "## Printing Lines with some condition\n",
        "fhand = open('py_work.txt')\n",
        "for i in fhand:\n",
        "  if i.startswith(\"How\"):                        # Check if line startswith \"From\"\n",
        "    print(i)"
      ],
      "execution_count": null,
      "outputs": []
    },
    {
      "cell_type": "code",
      "metadata": {
        "id": "JibbwtfUETmC"
      },
      "source": [
        "# Deleting/Removing extraspaces\n",
        "fhand = open('py_work.txt')\n",
        "for i in fhand:\n",
        "  i=i.rstrip()\n",
        "  if i.startswith(\"From\"):                        # Check if line startswith \"From\"\n",
        "    print(i)\n",
        "    "
      ],
      "execution_count": null,
      "outputs": []
    },
    {
      "cell_type": "code",
      "metadata": {
        "id": "4AmVhIkhJFRc"
      },
      "source": [
        "fhand = open('py_work.txt')\n",
        "for i in fhand:\n",
        "  i=i.rstrip()\n",
        "  if not i.startswith(\"From\"):\n",
        "    continue                        # Check if line startswith \"From\"\n",
        "  print(i)\n",
        "    "
      ],
      "execution_count": null,
      "outputs": []
    },
    {
      "cell_type": "markdown",
      "metadata": {
        "id": "gNeOwAyjLB14"
      },
      "source": [
        "Try and Except Function"
      ]
    },
    {
      "cell_type": "code",
      "metadata": {
        "id": "eBf9UlIXKNfH"
      },
      "source": [
        "file_name = input(\"Enter name of file\")\n",
        "try:\n",
        "  fhand = open(file_name)\n",
        "except:\n",
        "  print(\"File with %s does not exist\"%file_name)"
      ],
      "execution_count": null,
      "outputs": []
    },
    {
      "cell_type": "markdown",
      "metadata": {
        "id": "STVhg85zOhIB"
      },
      "source": [
        "File Handling ands Lists"
      ]
    },
    {
      "cell_type": "code",
      "metadata": {
        "id": "0kUhQ9l3Y1vY"
      },
      "source": [
        "Problem: Write a program find frequency of words in a file."
      ],
      "execution_count": null,
      "outputs": []
    },
    {
      "cell_type": "code",
      "metadata": {
        "id": "s3ulgKk1Y7RJ"
      },
      "source": [],
      "execution_count": null,
      "outputs": []
    },
    {
      "cell_type": "code",
      "metadata": {
        "id": "BPl3mrMLY8Wc"
      },
      "source": [],
      "execution_count": null,
      "outputs": []
    },
    {
      "cell_type": "code",
      "metadata": {
        "id": "8yXYVhoyO55n"
      },
      "source": [
        "##Write a program to open the file py_work.txt and create a vocabulary\n",
        "fh = open(\"py_work.txt\")\n",
        "vocab=[]\n",
        "for i in fh:\n",
        "  i=i.split()\n",
        "  if i not in i:\n",
        "    vocab.append(i)                    ##Each line with a set of Unique words  is being appended"
      ],
      "execution_count": null,
      "outputs": []
    },
    {
      "cell_type": "code",
      "metadata": {
        "id": "ZI-Wm2eaQ-7J"
      },
      "source": [
        "vocab"
      ],
      "execution_count": null,
      "outputs": []
    },
    {
      "cell_type": "code",
      "metadata": {
        "id": "hUmWkp_3PFM8"
      },
      "source": [
        "vocab_words = []\n",
        "for i in vocab:\n",
        "  for j in i:\n",
        "    vocab_words.append(j)               ##Each word of vocab is being appended of vocab list \n",
        "vocab_words[:10]     "
      ],
      "execution_count": null,
      "outputs": []
    },
    {
      "cell_type": "code",
      "metadata": {
        "id": "80iUiuXIP8CT"
      },
      "source": [
        "words = []\n",
        "for i in vocab_words:\n",
        "  if  i not   in words:\n",
        "    words.append(i)                       ##Vocablury of unique words is being made\n"
      ],
      "execution_count": null,
      "outputs": []
    }
  ]
}